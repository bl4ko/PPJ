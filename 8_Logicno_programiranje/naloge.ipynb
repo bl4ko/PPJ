{
 "cells": [
  {
   "attachments": {},
   "cell_type": "markdown",
   "metadata": {},
   "source": [
    "# 2020_06_24"
   ]
  },
  {
   "attachments": {},
   "cell_type": "markdown",
   "metadata": {},
   "source": [
    "## 3a)\n",
    "\n",
    "![img](./images/2020_06_24_3a.png)\n",
    "\n",
    "\n",
    "## 3b)\n",
    "\n",
    "![img](./images/2020_06_24_3b.png)\n",
    "\n",
    "## 3c)\n",
    "\n",
    "![img](./images/2020_06_24_3c.png)\n",
    "\n",
    "\n",
    "## 3d)\n",
    "\n",
    "![img](./images/2020_06_24_3d.png)\n",
    "\n",
    "## 3e)\n",
    "\n",
    "![img](./images/2020_06_24_3e.png)"
   ]
  },
  {
   "attachments": {},
   "cell_type": "markdown",
   "metadata": {},
   "source": [
    "## 2020_08_19\n",
    "\n",
    "\n",
    "### 3b\n",
    "\n",
    "![img](./images/2020_08_19_3b.png)"
   ]
  },
  {
   "attachments": {},
   "cell_type": "markdown",
   "metadata": {},
   "source": [
    "## 2022_06_21\n",
    "\n",
    "### 3. a\n",
    "\n",
    "![img](./images/2022_06_21_3a.png)\n",
    "\n",
    "### 3.b \n",
    "\n",
    "![img](./images/2022_06_21_3b.png)"
   ]
  },
  {
   "attachments": {},
   "cell_type": "markdown",
   "metadata": {},
   "source": [
    "## 2022_07_01\n",
    "\n",
    "### 1. a\n",
    "\n",
    "![img](./images/2022_07_01_1a.png)"
   ]
  }
 ],
 "metadata": {
  "language_info": {
   "name": "python"
  },
  "orig_nbformat": 4
 },
 "nbformat": 4,
 "nbformat_minor": 2
}
