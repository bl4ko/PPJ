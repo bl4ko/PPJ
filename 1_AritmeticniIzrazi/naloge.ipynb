{
 "cells": [
  {
   "attachments": {},
   "cell_type": "markdown",
   "metadata": {},
   "source": [
    "# 2019-06-28"
   ]
  },
  {
   "attachments": {},
   "cell_type": "markdown",
   "metadata": {},
   "source": [
    "## 1."
   ]
  },
  {
   "attachments": {},
   "cell_type": "markdown",
   "metadata": {},
   "source": [
    "### a) Elbonija uporablja naslednjo sintakso za zapis aritmetičnih izrazov\n",
    "\n",
    "```\n",
    "〈izraz〉 ::= 〈številka〉 | ⊖〈izraz〉 | 〈izraz〉 ⊕ 〈izraz〉 | 〈izraz〉 ⊗ 〈izraz〉\n",
    "〈številka〉 ::= [0–9]+\n",
    "```\n",
    "\n",
    "Simboli ⊖, ⊕ in ⊗ označujejo nasprotno vrednost, seštevanje in množenje. Elbonijsko razumevanje aritmetike je pomanjkljivo, zato nimajo nikakršnih dogovorov o prioriteti in asociativno-\n",
    "sti operacij, prav tako pa ne poznajo oklepajev. Na primer, elbonijski izraz 2 ⊗ 3 ⊕ 4 bi po naše\n",
    "lahko razumeli kot (2 · 3) + 4 ali kot 2 · (3 + 4).\n",
    "\n",
    "Katere so možne vrednosti izraza `⊖ 2 ⊕ 3 ⊗ 4?`\n",
    "1. (i) 4 in 10\n",
    "2. (ii) −20, −14, 4 in 10\n",
    "3. (iii) −20, −14 in 10\n",
    "4. (iv) 10\n"
   ]
  },
  {
   "attachments": {},
   "cell_type": "markdown",
   "metadata": {},
   "source": [
    "# 2020-06-24"
   ]
  },
  {
   "attachments": {},
   "cell_type": "markdown",
   "metadata": {},
   "source": [
    "## 1a) \n",
    "\n",
    "V Elbonji za zapis logičnih izrazov uporabljajo samo operatorje in (and), ali (or) in ekskluzivni ali (xor). V ta namen uporabljajo naslednjo sintakso\n",
    "\n",
    "```\n",
    "〈izraz〉 ::= 〈ekskluzivni〉 | 〈ekskluzivni〉 or 〈izraz〉\n",
    "〈ekskluzivni〉 ::= 〈konjuktivni〉 | 〈konjuktivni〉 xor 〈eksluzivni〉\n",
    "〈konjuktivni〉 ::= 〈osnovni〉 | 〈osnovni〉 and 〈konjuktivni〉\n",
    "〈osnovni〉 ::= ( 〈izraz〉 ) | 0 | 1\n",
    "```\n",
    "\n",
    "Zapišite izraz **brez nepotrebnih oklepajev**, ki predstavlja sintakitčno drevo\n",
    "![drevo](./images/drevo_2020-06-24.png)\n",
    "\n",
    "![img](./images/2020_06_24_1a.png)"
   ]
  },
  {
   "attachments": {},
   "cell_type": "markdown",
   "metadata": {},
   "source": [
    "# 2020-08-19"
   ]
  },
  {
   "attachments": {},
   "cell_type": "markdown",
   "metadata": {},
   "source": [
    "## 1. a"
   ]
  },
  {
   "attachments": {},
   "cell_type": "markdown",
   "metadata": {},
   "source": [
    "![img](./images/navodila_2020-08-19_1a.png)"
   ]
  },
  {
   "attachments": {},
   "cell_type": "markdown",
   "metadata": {},
   "source": [
    "![solution](./images/2020-08-19_1a.png)"
   ]
  },
  {
   "attachments": {},
   "cell_type": "markdown",
   "metadata": {},
   "source": [
    "## 2022_06_21\n",
    "\n",
    "### 1. a\n",
    "\n",
    "![img](./images/2022_06_21_1a.png)\n",
    "\n",
    "### 1. b\n",
    "\n",
    "![img](./images/2022_06_21_1b.png)"
   ]
  },
  {
   "attachments": {},
   "cell_type": "markdown",
   "metadata": {},
   "source": [
    "## 2022_07_01\n",
    "\n",
    "### 1. b\n",
    "\n",
    "![img](./images/2022_07_01_1b.png)"
   ]
  }
 ],
 "metadata": {
  "kernelspec": {
   "display_name": "OCaml 4.13.0",
   "language": "OCaml",
   "name": "ocaml-jupyter"
  },
  "language_info": {
   "name": "OCaml"
  },
  "orig_nbformat": 4
 },
 "nbformat": 4,
 "nbformat_minor": 2
}
