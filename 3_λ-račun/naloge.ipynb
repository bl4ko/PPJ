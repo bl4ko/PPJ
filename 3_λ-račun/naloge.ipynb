{
 "cells": [
  {
   "attachments": {},
   "cell_type": "markdown",
   "metadata": {},
   "source": [
    "## 2020-06-24\n",
    "\n",
    "### 1b\n",
    "\n",
    "![1b](./images/2020-06-24_1b.png)"
   ]
  },
  {
   "attachments": {},
   "cell_type": "markdown",
   "metadata": {},
   "source": [
    "## 2020-08-19\n",
    "\n",
    "### 1b\n",
    "\n",
    "![1b](./images/2020-08-19_1b.png)"
   ]
  },
  {
   "attachments": {},
   "cell_type": "markdown",
   "metadata": {},
   "source": [
    "## 2022_06_21\n",
    "\n",
    "### 1ef\n",
    "\n",
    "![1ef](./images/2022_06_21_1ef.png)"
   ]
  },
  {
   "attachments": {},
   "cell_type": "markdown",
   "metadata": {},
   "source": [
    "## 2022_07_01\n",
    "\n",
    "### 1. e\n",
    "\n",
    "![1e](./images/2022_07_01_1e.png)"
   ]
  }
 ],
 "metadata": {
  "language_info": {
   "name": "python"
  },
  "orig_nbformat": 4
 },
 "nbformat": 4,
 "nbformat_minor": 2
}
