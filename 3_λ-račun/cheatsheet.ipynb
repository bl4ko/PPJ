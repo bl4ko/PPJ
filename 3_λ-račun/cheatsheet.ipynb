{
 "cells": [
  {
   "attachments": {},
   "cell_type": "markdown",
   "metadata": {},
   "source": [
    "![lambd_bool](./images/lambda_bool.png)\n",
    "\n",
    "\n",
    "![lambda_numbers](./images/lambda_numbers.png)"
   ]
  }
 ],
 "metadata": {
  "language_info": {
   "name": "python"
  },
  "orig_nbformat": 4
 },
 "nbformat": 4,
 "nbformat_minor": 2
}
