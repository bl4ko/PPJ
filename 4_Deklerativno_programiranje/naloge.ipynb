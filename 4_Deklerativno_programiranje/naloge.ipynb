{
 "cells": [
  {
   "attachments": {},
   "cell_type": "markdown",
   "metadata": {},
   "source": [
    "## 2020-06-24\n",
    "\n",
    "### 1.c\n",
    "\n",
    "![img](./images/2020_06_24_1c.png)\n",
    "\n",
    "### 1. d\n",
    "\n",
    "![img](./images/2020_06_24_1d.png)\n",
    "\n",
    "### 2.c\n",
    "\n",
    "![img](./images/2020_06_24_2c.png)"
   ]
  },
  {
   "attachments": {},
   "cell_type": "markdown",
   "metadata": {},
   "source": [
    "## 2020_08_19\n",
    "\n",
    "### 1c)\n",
    "\n",
    "![img](./images/2020_08_19_1c.png)\n",
    "\n",
    "### 1d)\n",
    "\n",
    "![img](./images/2020_08_19_1d.png)\n",
    "\n",
    "### 1e)\n",
    "\n",
    "![img](./images/2020_08_19_1e.png)\n",
    "\n",
    "### 3a)\n",
    "\n",
    "![img](./images/2020_08_19_3a.png)"
   ]
  },
  {
   "attachments": {},
   "cell_type": "markdown",
   "metadata": {},
   "source": [
    "## 2022_06_21\n",
    "\n",
    "### 1. c\n",
    "\n",
    "![img](./images/2022_06_21_1c.png)\n",
    "\n",
    "### 1. d\n",
    "\n",
    "![img](./images/2022_06_21_1d.png)"
   ]
  },
  {
   "attachments": {},
   "cell_type": "markdown",
   "metadata": {},
   "source": [
    "## 2022_07_01\n",
    "\n",
    "### 1. c\n",
    "\n",
    "![img](./images/2022_07_01_1c.png)\n",
    "\n",
    "\n",
    "### 1. d\n",
    "\n",
    "![img](./images/2022_07_01_1d.png)\n",
    "\n",
    "### 3. a\n",
    "\n",
    "![img](./images/2022_07_01_3a.png)\n",
    "\n",
    "\n",
    "### 3. b\n",
    "\n",
    "![img](./images/2022_07_01_3b.png)\n",
    "\n",
    "### 3. c\n",
    "\n",
    "![img](./images/2022_07_01_3c.png)"
   ]
  }
 ],
 "metadata": {
  "language_info": {
   "name": "python"
  },
  "orig_nbformat": 4
 },
 "nbformat": 4,
 "nbformat_minor": 2
}
