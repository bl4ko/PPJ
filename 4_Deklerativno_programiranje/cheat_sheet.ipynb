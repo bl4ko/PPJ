{
 "cells": [
  {
   "cell_type": "code",
   "execution_count": 5,
   "id": "cultural-people",
   "metadata": {
    "vscode": {
     "languageId": "ocaml"
    }
   },
   "outputs": [
    {
     "data": {
      "text/plain": [
       "val x : int = 10\n"
      ]
     },
     "execution_count": 5,
     "metadata": {},
     "output_type": "execute_result"
    },
    {
     "data": {
      "text/plain": [
       "val foo : int = 1\n"
      ]
     },
     "execution_count": 5,
     "metadata": {},
     "output_type": "execute_result"
    },
    {
     "data": {
      "text/plain": [
       "val foo' : int = 2\n"
      ]
     },
     "execution_count": 5,
     "metadata": {},
     "output_type": "execute_result"
    }
   ],
   "source": [
    "(*** Variables and functions ***)\n",
    "\n",
    "(* Expressions can be separated by a double semicolon symbol, \";;\" *)\n",
    "let x = 10 ;; (* Variable declaration *)\n",
    "\n",
    "(* OCaml allows single quote characters in identifiers. *)\n",
    "let foo = 1 ;;\n",
    "let foo' = foo * 2 ;;"
   ]
  },
  {
   "cell_type": "code",
   "execution_count": 6,
   "id": "serious-nudist",
   "metadata": {
    "vscode": {
     "languageId": "ocaml"
    }
   },
   "outputs": [
    {
     "data": {
      "text/plain": [
       "val inc_int : int -> int = <fun>\n"
      ]
     },
     "execution_count": 6,
     "metadata": {},
     "output_type": "execute_result"
    },
    {
     "data": {
      "text/plain": [
       "val inc_int : int -> int = <fun>\n"
      ]
     },
     "execution_count": 6,
     "metadata": {},
     "output_type": "execute_result"
    }
   ],
   "source": [
    "(* Since OCaml compiler infers types automatically, you normally don't need to\n",
    "   specify argument types explicitly. However, you can do it if\n",
    "   you want or need to. *)\n",
    "let inc_int (x: int) : int = x + 1 ;;\n",
    "\n",
    "(* One of the cases when explicit type annotations may be needed is\n",
    "   resolving ambiguity between two record types that have fields with\n",
    "   the same name. The alternative is to encapsulate those types in\n",
    "   modules, but both topics are a bit out of scope of this\n",
    "   tutorial. *)\n",
    "   \n",
    "(* alternativa *)\n",
    "let inc_int : int -> int = fun x -> x + 1 ;;"
   ]
  },
  {
   "cell_type": "code",
   "execution_count": 7,
   "id": "cognitive-talent",
   "metadata": {
    "vscode": {
     "languageId": "ocaml"
    }
   },
   "outputs": [
    {
     "data": {
      "text/plain": [
       "val factorial : int -> int = <fun>\n"
      ]
     },
     "execution_count": 7,
     "metadata": {},
     "output_type": "execute_result"
    }
   ],
   "source": [
    "(* You need to mark recursive function definitions as such with \"rec\" keyword. *)\n",
    "let rec factorial n =\n",
    "    if n = 0\n",
    "    then 1\n",
    "    else n * factorial (n-1)\n",
    ";;"
   ]
  },
  {
   "cell_type": "code",
   "execution_count": 10,
   "id": "green-extreme",
   "metadata": {
    "vscode": {
     "languageId": "ocaml"
    }
   },
   "outputs": [
    {
     "data": {
      "text/plain": [
       "val fact_5 : int = 120\n"
      ]
     },
     "execution_count": 10,
     "metadata": {},
     "output_type": "execute_result"
    }
   ],
   "source": [
    "(* Function application usually doesn't need parentheses around arguments *)\n",
    "let fact_5 = factorial 5 ;;"
   ]
  },
  {
   "cell_type": "code",
   "execution_count": 11,
   "id": "recreational-negative",
   "metadata": {
    "vscode": {
     "languageId": "ocaml"
    }
   },
   "outputs": [
    {
     "data": {
      "text/plain": [
       "val fact_4 : int = 24\n"
      ]
     },
     "execution_count": 11,
     "metadata": {},
     "output_type": "execute_result"
    },
    {
     "data": {
      "text/plain": [
       "val fact_4 : int = 119\n"
      ]
     },
     "execution_count": 11,
     "metadata": {},
     "output_type": "execute_result"
    }
   ],
   "source": [
    "(* ...unless the argument is an expression. *)\n",
    "let fact_4 = factorial (5 - 1) ;;\n",
    "let fact_4 = factorial 5 - 1 ;;"
   ]
  },
  {
   "cell_type": "code",
   "execution_count": 12,
   "id": "executed-uruguay",
   "metadata": {
    "vscode": {
     "languageId": "ocaml"
    }
   },
   "outputs": [
    {
     "data": {
      "text/plain": [
       "val print_hello : unit -> unit = <fun>\n"
      ]
     },
     "execution_count": 12,
     "metadata": {},
     "output_type": "execute_result"
    }
   ],
   "source": [
    "(* Every function must have at least one argument.\n",
    "   Since some functions naturally don't take any arguments, there's\n",
    "   \"unit\" type for it that has the only one value written as \"()\" *)\n",
    "let print_hello () = print_endline \"hello world\" ;;"
   ]
  },
  {
   "cell_type": "code",
   "execution_count": 13,
   "id": "waiting-survey",
   "metadata": {
    "vscode": {
     "languageId": "ocaml"
    }
   },
   "outputs": [
    {
     "name": "stdout",
     "output_type": "stream",
     "text": [
      "hello world\n"
     ]
    },
    {
     "data": {
      "text/plain": [
       "- : unit = ()\n"
      ]
     },
     "execution_count": 13,
     "metadata": {},
     "output_type": "execute_result"
    }
   ],
   "source": [
    "(* Note that you must specify \"()\" as argument when calling it. *)\n",
    "print_hello () ;;"
   ]
  },
  {
   "cell_type": "code",
   "execution_count": 14,
   "id": "according-microphone",
   "metadata": {
    "vscode": {
     "languageId": "ocaml"
    }
   },
   "outputs": [
    {
     "data": {
      "text/plain": [
       "val make_inc : int -> int -> int = <fun>\n"
      ]
     },
     "execution_count": 14,
     "metadata": {},
     "output_type": "execute_result"
    },
    {
     "data": {
      "text/plain": [
       "val inc_2 : int -> int = <fun>\n"
      ]
     },
     "execution_count": 14,
     "metadata": {},
     "output_type": "execute_result"
    },
    {
     "data": {
      "text/plain": [
       "- : int = 5\n"
      ]
     },
     "execution_count": 14,
     "metadata": {},
     "output_type": "execute_result"
    }
   ],
   "source": [
    "(* Calling a function with insufficient number of arguments\n",
    "   does not cause an error, it produces a new function. *)\n",
    "let make_inc x y = x + y ;; (* make_inc is int -> int -> int *)\n",
    "let inc_2 = make_inc 2 ;;   (* inc_2 is int -> int *)\n",
    "inc_2 3 ;; (* Evaluates to 5 *)"
   ]
  },
  {
   "cell_type": "code",
   "execution_count": 15,
   "id": "exciting-owner",
   "metadata": {
    "vscode": {
     "languageId": "ocaml"
    }
   },
   "outputs": [
    {
     "data": {
      "text/plain": [
       "val make_inc2 : int * int -> int = <fun>\n"
      ]
     },
     "execution_count": 15,
     "metadata": {},
     "output_type": "execute_result"
    },
    {
     "data": {
      "text/plain": [
       "val make_inc2 : int * int -> int = <fun>\n"
      ]
     },
     "execution_count": 15,
     "metadata": {},
     "output_type": "execute_result"
    },
    {
     "data": {
      "text/plain": [
       "val make_inc : int -> int -> int = <fun>\n"
      ]
     },
     "execution_count": 15,
     "metadata": {},
     "output_type": "execute_result"
    },
    {
     "data": {
      "text/plain": [
       "val make_inc : int -> int -> int = <fun>\n"
      ]
     },
     "execution_count": 15,
     "metadata": {},
     "output_type": "execute_result"
    }
   ],
   "source": [
    "let make_inc2 (x, y) = x + y ;;\n",
    "let make_inc2 = fun (x, y) -> x + y ;;\n",
    "let make_inc = fun x -> fun y -> x + y ;;\n",
    "let make_inc = fun x y -> x + y ;;"
   ]
  },
  {
   "cell_type": "code",
   "execution_count": 16,
   "id": "future-moral",
   "metadata": {
    "vscode": {
     "languageId": "ocaml"
    }
   },
   "outputs": [
    {
     "data": {
      "text/plain": [
       "val print_and_return : int -> int = <fun>\n"
      ]
     },
     "execution_count": 16,
     "metadata": {},
     "output_type": "execute_result"
    }
   ],
   "source": [
    "(* You can use multiple expressions in function body.\n",
    "   The last expression becomes the return value. All other\n",
    "   expressions must be of the \"unit\" type.\n",
    "   This is useful when writing in imperative style, the simplest\n",
    "   form of it is inserting a debug print. *)\n",
    "let print_and_return x =\n",
    "    print_endline (string_of_int x) ;\n",
    "    x\n",
    ";;"
   ]
  },
  {
   "cell_type": "code",
   "execution_count": 17,
   "id": "foster-location",
   "metadata": {
    "vscode": {
     "languageId": "ocaml"
    }
   },
   "outputs": [
    {
     "data": {
      "text/plain": [
       "- : int = 30\n"
      ]
     },
     "execution_count": 17,
     "metadata": {},
     "output_type": "execute_result"
    }
   ],
   "source": [
    "(* Since OCaml is a functional language, it lacks \"procedures\".\n",
    "   Every function must return something. So functions that\n",
    "   do not really return anything and are called solely for their\n",
    "   side effects, like print_endline, return value of \"unit\" type. *)\n",
    "\n",
    "\n",
    "(* Definitions can be chained with \"let ... in\" construct.\n",
    "   This is roughly the same to assigning values to multiple\n",
    "   variables before using them in expressions in imperative\n",
    "   languages. *)\n",
    "let x = 10 in\n",
    "let y = 20 in\n",
    "x + y ;;"
   ]
  },
  {
   "cell_type": "code",
   "execution_count": 18,
   "id": "balanced-plenty",
   "metadata": {
    "vscode": {
     "languageId": "ocaml"
    }
   },
   "outputs": [
    {
     "data": {
      "text/plain": [
       "val my_lambda : int -> int = <fun>\n"
      ]
     },
     "execution_count": 18,
     "metadata": {},
     "output_type": "execute_result"
    }
   ],
   "source": [
    "(* Anonymous functions use the following syntax: *)\n",
    "let my_lambda = fun x -> x * x ;;"
   ]
  },
  {
   "cell_type": "code",
   "execution_count": 19,
   "id": "clear-lexington",
   "metadata": {
    "vscode": {
     "languageId": "ocaml"
    }
   },
   "outputs": [
    {
     "data": {
      "text/plain": [
       "- : int = 7\n"
      ]
     },
     "execution_count": 19,
     "metadata": {},
     "output_type": "execute_result"
    }
   ],
   "source": [
    "(*** Operators ***)\n",
    "\n",
    "(* There is little distinction between operators and functions.\n",
    "   Every operator can be called as a function. *)\n",
    "\n",
    "(+) 3 4  (* Same as 3 + 4 *)"
   ]
  },
  {
   "cell_type": "code",
   "execution_count": 20,
   "id": "satisfied-failing",
   "metadata": {
    "vscode": {
     "languageId": "ocaml"
    }
   },
   "outputs": [
    {
     "data": {
      "text/plain": [
       "- : int = 15\n"
      ]
     },
     "execution_count": 20,
     "metadata": {},
     "output_type": "execute_result"
    },
    {
     "data": {
      "text/plain": [
       "- : float = 15.\n"
      ]
     },
     "execution_count": 20,
     "metadata": {},
     "output_type": "execute_result"
    }
   ],
   "source": [
    "(* There's a number of built-in operators. One unusual feature is\n",
    "   that OCaml doesn't just refrain from any implicit conversions\n",
    "   between integers and floats, it also uses different operators\n",
    "   for floats. *)\n",
    "12 + 3 ;; (* Integer addition. *)\n",
    "12.0 +. 3.0 ;; (* Floating point addition. *)"
   ]
  },
  {
   "cell_type": "code",
   "execution_count": 22,
   "id": "plain-airplane",
   "metadata": {
    "vscode": {
     "languageId": "ocaml"
    }
   },
   "outputs": [
    {
     "data": {
      "text/plain": [
       "- : int = 4\n"
      ]
     },
     "execution_count": 22,
     "metadata": {},
     "output_type": "execute_result"
    },
    {
     "data": {
      "text/plain": [
       "- : float = 4.\n"
      ]
     },
     "execution_count": 22,
     "metadata": {},
     "output_type": "execute_result"
    },
    {
     "data": {
      "text/plain": [
       "- : int = 1\n"
      ]
     },
     "execution_count": 22,
     "metadata": {},
     "output_type": "execute_result"
    }
   ],
   "source": [
    "12 / 3 ;; (* Integer division. *)\n",
    "12.0 /. 3.0 ;; (* Floating point division. *)\n",
    "5 mod 2 ;; (* Remainder. *)"
   ]
  },
  {
   "cell_type": "code",
   "execution_count": 21,
   "id": "conditional-commitment",
   "metadata": {
    "vscode": {
     "languageId": "ocaml"
    }
   },
   "outputs": [
    {
     "data": {
      "text/plain": [
       "- : int = -3\n"
      ]
     },
     "execution_count": 21,
     "metadata": {},
     "output_type": "execute_result"
    },
    {
     "data": {
      "text/plain": [
       "- : float = -4.5\n"
      ]
     },
     "execution_count": 21,
     "metadata": {},
     "output_type": "execute_result"
    },
    {
     "ename": "error",
     "evalue": "compile_error",
     "output_type": "error",
     "traceback": [
      "File \"[21]\", line 5, characters 0-4:\n5 | ~- 3 (* Integer only *)\n    ^^^^\nError: This expression has type int\n       This is not a function; it cannot be applied.\n"
     ]
    }
   ],
   "source": [
    "(* Unary minus is a notable exception, it's polymorphic.\n",
    "   However, it also has \"pure\" integer and float forms. *)\n",
    "- 3 ;; (* Polymorphic, integer *)\n",
    "- 4.5 ;; (* Polymorphic, float *)\n",
    "~- 3 (* Integer only *)\n",
    "~- 3.4 (* Type error *)\n",
    "~-. 3.4 (* Float only *)"
   ]
  },
  {
   "cell_type": "code",
   "execution_count": 23,
   "id": "voluntary-detective",
   "metadata": {
    "vscode": {
     "languageId": "ocaml"
    }
   },
   "outputs": [
    {
     "data": {
      "text/plain": [
       "val ( + ) : int -> int -> int = <fun>\n"
      ]
     },
     "execution_count": 23,
     "metadata": {},
     "output_type": "execute_result"
    }
   ],
   "source": [
    "(* You can define your own operators or redefine existing ones.\n",
    "   Unlike SML or Haskell, only selected symbols can be used\n",
    "   for operator names and first symbol defines associativity\n",
    "   and precedence rules. *)\n",
    "let (+) a b = a - b ;; (* Surprise maintenance programmers. *)"
   ]
  },
  {
   "cell_type": "code",
   "execution_count": null,
   "id": "electrical-notebook",
   "metadata": {
    "vscode": {
     "languageId": "ocaml"
    }
   },
   "outputs": [],
   "source": [
    "(* More useful: a reciprocal operator for floats.\n",
    "   Unary operators must start with \"~\". *)\n",
    "let (~/) x = 1.0 /. x ;;\n",
    "~/4.0 (* = 0.25 *)"
   ]
  },
  {
   "cell_type": "code",
   "execution_count": null,
   "id": "rapid-argument",
   "metadata": {
    "vscode": {
     "languageId": "ocaml"
    }
   },
   "outputs": [],
   "source": [
    "(*** Built-in data structures ***)\n",
    "\n",
    "(* Lists are enclosed in square brackets, items are separated by\n",
    "   semicolons. *)\n",
    "let my_list = [1; 2; 3] ;;"
   ]
  },
  {
   "cell_type": "code",
   "execution_count": null,
   "id": "magnetic-debate",
   "metadata": {
    "vscode": {
     "languageId": "ocaml"
    }
   },
   "outputs": [],
   "source": [
    "(* Tuples are (optionally) enclosed in parentheses, items are separated\n",
    "   by commas. *)\n",
    "let first_tuple = 3, 4 ;; (* Has type \"int * int\". *)\n",
    "let second_tuple = (4, 5) ;;"
   ]
  },
  {
   "cell_type": "code",
   "execution_count": null,
   "id": "above-thesaurus",
   "metadata": {
    "vscode": {
     "languageId": "ocaml"
    }
   },
   "outputs": [],
   "source": [
    "(* Corollary: if you try to separate list items by commas, you get a list\n",
    "   with a tuple inside, probably not what you want. *)\n",
    "let bad_list = [1, 2] ;; (* Becomes [(1, 2)] *)"
   ]
  },
  {
   "cell_type": "code",
   "execution_count": null,
   "id": "separated-uncertainty",
   "metadata": {
    "vscode": {
     "languageId": "ocaml"
    }
   },
   "outputs": [],
   "source": [
    "(* You can access individual list items with the List.nth function. *)\n",
    "List.nth my_list 1 ;;"
   ]
  },
  {
   "cell_type": "code",
   "execution_count": null,
   "id": "dental-institution",
   "metadata": {
    "vscode": {
     "languageId": "ocaml"
    }
   },
   "outputs": [],
   "source": [
    "(* There are higher-order functions for lists such as map and filter. *)\n",
    "List.map (fun x -> x * 2) [1; 2; 3] ;;\n",
    "List.filter (fun x -> x mod 2 = 0) [1; 2; 3; 4] ;;"
   ]
  },
  {
   "cell_type": "code",
   "execution_count": null,
   "id": "former-upper",
   "metadata": {
    "vscode": {
     "languageId": "ocaml"
    }
   },
   "outputs": [],
   "source": [
    "(* You can add an item to the beginning of a list with the \"::\" constructor\n",
    "   often referred to as \"cons\". *)\n",
    "1 :: [2; 3] ;; (* Gives [1; 2; 3] *)\n",
    "1 :: 2 :: [] ;; (* desno asociativen op. *)"
   ]
  },
  {
   "cell_type": "code",
   "execution_count": null,
   "id": "split-penalty",
   "metadata": {
    "vscode": {
     "languageId": "ocaml"
    }
   },
   "outputs": [],
   "source": [
    "(*** Strings and characters ***)\n",
    "\n",
    "(* Use double quotes for string literals. *)\n",
    "let my_str = \"Hello world\" ;;"
   ]
  },
  {
   "cell_type": "code",
   "execution_count": null,
   "id": "mature-wallace",
   "metadata": {
    "vscode": {
     "languageId": "ocaml"
    }
   },
   "outputs": [],
   "source": [
    "(* Use single quotes for character literals. *)\n",
    "let my_char = 'a' ;;"
   ]
  },
  {
   "cell_type": "code",
   "execution_count": null,
   "id": "younger-seeking",
   "metadata": {
    "vscode": {
     "languageId": "ocaml"
    }
   },
   "outputs": [],
   "source": [
    "(* Single and double quotes are not interchangeable. *)\n",
    "let bad_str = 'syntax error' ;; (* Syntax error. *)"
   ]
  },
  {
   "cell_type": "code",
   "execution_count": null,
   "id": "confident-subdivision",
   "metadata": {
    "vscode": {
     "languageId": "ocaml"
    }
   },
   "outputs": [],
   "source": [
    "(* This will give you a single character string, not a character. *)\n",
    "let single_char_str = \"w\" ;;"
   ]
  },
  {
   "cell_type": "code",
   "execution_count": null,
   "id": "intense-sunglasses",
   "metadata": {
    "vscode": {
     "languageId": "ocaml"
    }
   },
   "outputs": [],
   "source": [
    "(* Strings can be concatenated with the \"^\" operator. *)\n",
    "let some_str = \"hello\" ^ \"world\" ;;"
   ]
  },
  {
   "cell_type": "code",
   "execution_count": null,
   "id": "binary-render",
   "metadata": {
    "vscode": {
     "languageId": "ocaml"
    }
   },
   "outputs": [],
   "source": [
    "(* Strings are not arrays of characters.\n",
    "   You can't mix characters and strings in expressions.\n",
    "   You can convert a character to a string with \"String.make 1 my_char\".\n",
    "   There are more convenient functions for this purpose in additional\n",
    "   libraries such as Core.Std that may not be installed and/or loaded\n",
    "   by default. *)\n",
    "let ocaml = (String.make 1 'O') ^ \"Caml\" ;;"
   ]
  },
  {
   "cell_type": "code",
   "execution_count": null,
   "id": "asian-folks",
   "metadata": {
    "vscode": {
     "languageId": "ocaml"
    }
   },
   "outputs": [],
   "source": [
    "(* There is a printf function. *)\n",
    "Printf.printf \"%d %s\" 99 \"bottles of beer\" ;;"
   ]
  },
  {
   "cell_type": "code",
   "execution_count": null,
   "id": "consistent-luxembourg",
   "metadata": {
    "vscode": {
     "languageId": "ocaml"
    }
   },
   "outputs": [],
   "source": [
    "(* Unformatted read and write functions are there too. *)\n",
    "print_string \"hello world\\n\" ;;\n",
    "print_endline \"hello world\" ;;\n",
    "let line = read_line () ;; (* ne dela v notebook-u *)"
   ]
  },
  {
   "cell_type": "code",
   "execution_count": null,
   "id": "frequent-summer",
   "metadata": {
    "vscode": {
     "languageId": "ocaml"
    }
   },
   "outputs": [],
   "source": [
    "(*** User-defined data types ***)\n",
    "\n",
    "(* You can define types with the \"type some_type =\" construct. Like in this\n",
    "   useless type alias: *)\n",
    "type my_int = int ;;"
   ]
  },
  {
   "cell_type": "code",
   "execution_count": null,
   "id": "wooden-fusion",
   "metadata": {
    "vscode": {
     "languageId": "ocaml"
    }
   },
   "outputs": [],
   "source": [
    "(* More interesting types include so called type constructors.\n",
    "   Constructors must start with a capital letter. *)\n",
    "type ml = OCaml | StandardML ;;\n",
    "let lang = OCaml ;;  (* Has type \"ml\". *)"
   ]
  },
  {
   "cell_type": "code",
   "execution_count": null,
   "id": "composite-interaction",
   "metadata": {
    "vscode": {
     "languageId": "ocaml"
    }
   },
   "outputs": [],
   "source": [
    "(* Type constructors don't need to be empty. *)\n",
    "type my_number = PlusInfinity | MinusInfinity | Real of float ;;\n",
    "let r0 = Real (-3.4) ;; (* Has type \"my_number\". *)"
   ]
  },
  {
   "cell_type": "code",
   "execution_count": null,
   "id": "improving-virginia",
   "metadata": {
    "vscode": {
     "languageId": "ocaml"
    }
   },
   "outputs": [],
   "source": [
    "(* Can be used to implement polymorphic arithmetics. *)\n",
    "type number = Int of int | Float of float ;;"
   ]
  },
  {
   "cell_type": "code",
   "execution_count": null,
   "id": "imported-rabbit",
   "metadata": {
    "vscode": {
     "languageId": "ocaml"
    }
   },
   "outputs": [],
   "source": [
    "(* Point on a plane, essentially a type-constrained tuple *)\n",
    "type point2d = Point of float * float ;;\n",
    "let my_point = Point (2.0, 3.0) ;;"
   ]
  },
  {
   "cell_type": "code",
   "execution_count": null,
   "id": "gothic-wesley",
   "metadata": {
    "vscode": {
     "languageId": "ocaml"
    }
   },
   "outputs": [],
   "source": [
    "(* Types can be parameterized, like in this type for \"list of lists\n",
    "   of anything\". 'a can be substituted with any type. *)\n",
    "type 'a list_of_lists = 'a list list ;;\n",
    "type int_list_list = int list_of_lists ;;"
   ]
  },
  {
   "cell_type": "code",
   "execution_count": null,
   "id": "canadian-airplane",
   "metadata": {
    "vscode": {
     "languageId": "ocaml"
    }
   },
   "outputs": [],
   "source": [
    "(* Types can also be recursive. Like in this type analogous to\n",
    "   built-in list of integers. *)\n",
    "type my_int_list = EmptyList | IntList of int * my_int_list ;;\n",
    "let l = IntList (1, EmptyList) ;;"
   ]
  },
  {
   "cell_type": "code",
   "execution_count": null,
   "id": "cathedral-richmond",
   "metadata": {
    "vscode": {
     "languageId": "ocaml"
    }
   },
   "outputs": [],
   "source": [
    "(*** Pattern matching ***)\n",
    "\n",
    "(* Pattern matching is somewhat similar to switch statement in imperative\n",
    "   languages, but offers a lot more expressive power.\n",
    "\n",
    "   Even though it may look complicated, it really boils down to matching\n",
    "   an argument against an exact value, a predicate, or a type constructor.\n",
    "   The type system is what makes it so powerful. *)\n",
    "\n",
    "(** Matching exact values.  **)\n",
    "\n",
    "let is_zero x =\n",
    "    match x with\n",
    "    | 0 -> true\n",
    "    | _ -> false  (* The \"_\" pattern means \"anything else\". *)\n",
    ";;"
   ]
  },
  {
   "cell_type": "code",
   "execution_count": null,
   "id": "laughing-carol",
   "metadata": {
    "vscode": {
     "languageId": "ocaml"
    }
   },
   "outputs": [],
   "source": [
    "(* Alternatively, you can use the \"function\" keyword. *)\n",
    "let is_one = function\n",
    "| 1 -> true\n",
    "| _ -> false\n",
    ";;"
   ]
  },
  {
   "cell_type": "code",
   "execution_count": null,
   "id": "virtual-watch",
   "metadata": {
    "vscode": {
     "languageId": "ocaml"
    }
   },
   "outputs": [],
   "source": [
    "(* Matching predicates, aka \"guarded pattern matching\". *)\n",
    "let abs x =\n",
    "    match x with\n",
    "    | x when x < 0 -> -x\n",
    "    | _ -> x\n",
    ";;\n",
    "\n",
    "abs 5 ;; (* 5 *)\n",
    "abs (-5) (* 5 again *)"
   ]
  },
  {
   "cell_type": "code",
   "execution_count": null,
   "id": "disturbed-sword",
   "metadata": {
    "vscode": {
     "languageId": "ocaml"
    }
   },
   "outputs": [],
   "source": [
    "(** Matching type constructors **)\n",
    "\n",
    "type animal = Dog of string | Cat of string ;;\n",
    "\n",
    "let say x =\n",
    "    match x with\n",
    "    | Dog x -> x ^ \" says woof\"\n",
    "    | Cat x -> x ^ \" says meow\"\n",
    ";;\n",
    "\n",
    "say (Cat \"Fluffy\") ;; (* \"Fluffy says meow\". *)"
   ]
  },
  {
   "cell_type": "code",
   "execution_count": 2,
   "id": "changing-crystal",
   "metadata": {
    "vscode": {
     "languageId": "ocaml"
    }
   },
   "outputs": [
    {
     "data": {
      "text/plain": [
       "val f : 'a -> ('a -> 'b) -> 'b = <fun>\n"
      ]
     },
     "execution_count": 2,
     "metadata": {},
     "output_type": "execute_result"
    }
   ],
   "source": [
    "let f a b = b a ;;"
   ]
  }
 ],
 "metadata": {
  "kernelspec": {
   "display_name": "OCaml 4.13.0",
   "language": "OCaml",
   "name": "ocaml-jupyter"
  },
  "language_info": {
   "codemirror_mode": "text/x-ocaml",
   "file_extension": ".ml",
   "mimetype": "text/x-ocaml",
   "name": "OCaml",
   "nbconverter_exporter": null,
   "pygments_lexer": "OCaml",
   "version": "4.13.0"
  }
 },
 "nbformat": 4,
 "nbformat_minor": 5
}
