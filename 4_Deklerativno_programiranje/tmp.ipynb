{
 "cells": [
  {
   "cell_type": "code",
   "execution_count": 11,
   "metadata": {
    "vscode": {
     "languageId": "ocaml"
    }
   },
   "outputs": [
    {
     "data": {
      "text/plain": [
       "val power3plus1 : int -> int = <fun>\n"
      ]
     },
     "execution_count": 11,
     "metadata": {},
     "output_type": "execute_result"
    },
    {
     "data": {
      "text/plain": [
       "- : int = 10\n"
      ]
     },
     "execution_count": 11,
     "metadata": {},
     "output_type": "execute_result"
    }
   ],
   "source": [
    "let power3plus1 b =\n",
    "  let rec helper i j =\n",
    "    if j < b then helper (i + i + i - 2) (j + 1)\n",
    "    else i\n",
    "  in helper 2 0 ;;\n",
    "\n",
    "power3plus1 2 ;;"
   ]
  },
  {
   "cell_type": "code",
   "execution_count": 12,
   "metadata": {
    "vscode": {
     "languageId": "ocaml"
    }
   },
   "outputs": [
    {
     "data": {
      "text/plain": [
       "val f : (int list -> 'a) -> 'a = <fun>\n"
      ]
     },
     "execution_count": 12,
     "metadata": {},
     "output_type": "execute_result"
    }
   ],
   "source": [
    "let f g = g [0;1;2] ;;"
   ]
  },
  {
   "cell_type": "code",
   "execution_count": 15,
   "metadata": {
    "vscode": {
     "languageId": "ocaml"
    }
   },
   "outputs": [
    {
     "data": {
      "text/plain": [
       "type oseba = { ime : string; priimek : string; rojstvo : int; }\n"
      ]
     },
     "execution_count": 15,
     "metadata": {},
     "output_type": "execute_result"
    }
   ],
   "source": [
    "type oseba = { ime: string; priimek: string; rojstvo: int} ;;"
   ]
  },
  {
   "cell_type": "code",
   "execution_count": 16,
   "metadata": {
    "vscode": {
     "languageId": "ocaml"
    }
   },
   "outputs": [
    {
     "ename": "error",
     "evalue": "compile_error",
     "output_type": "error",
     "traceback": [
      "File \"[16]\", line 1, characters 5-26:\n1 | {ime=\"Kekec\", priimek=None; rojstvo=1918} ;;\n         ^^^^^^^^^^^^^^^^^^^^^\nError: This expression has type 'a * 'b\n       but an expression was expected of type string\n"
     ]
    }
   ],
   "source": [
    "{ime=\"Kekec\", priimek=None; rojstvo=1918} ;;"
   ]
  },
  {
   "cell_type": "code",
   "execution_count": 17,
   "metadata": {
    "vscode": {
     "languageId": "ocaml"
    }
   },
   "outputs": [
    {
     "ename": "error",
     "evalue": "compile_error",
     "output_type": "error",
     "traceback": [
      "File \"[17]\", line 1, characters 0-29:\n1 | { ime=\"Kekec\"; rojstvo=1918 } ;;\n    ^^^^^^^^^^^^^^^^^^^^^^^^^^^^^\nError: Some record fields are undefined: priimek\n"
     ]
    }
   ],
   "source": [
    "{ ime=\"Kekec\"; rojstvo=1918 } ;;"
   ]
  },
  {
   "cell_type": "code",
   "execution_count": 19,
   "metadata": {
    "vscode": {
     "languageId": "ocaml"
    }
   },
   "outputs": [
    {
     "data": {
      "text/plain": [
       "- : oseba = {ime = \"Kekec\"; priimek = \"\"; rojstvo = 1918}\n"
      ]
     },
     "execution_count": 19,
     "metadata": {},
     "output_type": "execute_result"
    }
   ],
   "source": [
    "{ ime = \"Kekec\"; priimek=\"\"; rojstvo=(let s=1000 in s + 918)}"
   ]
  },
  {
   "cell_type": "code",
   "execution_count": 20,
   "metadata": {
    "vscode": {
     "languageId": "ocaml"
    }
   },
   "outputs": [
    {
     "data": {
      "text/plain": [
       "- : oseba = {ime = \"Mojca\"; priimek = \"Pokraculja\"; rojstvo = 1920}\n"
      ]
     },
     "execution_count": 20,
     "metadata": {},
     "output_type": "execute_result"
    }
   ],
   "source": [
    "{ ime=\"Mojca\"; priimek=\"Pokraculja\"; rojstvo=1920} ;;"
   ]
  },
  {
   "cell_type": "code",
   "execution_count": 21,
   "metadata": {
    "vscode": {
     "languageId": "ocaml"
    }
   },
   "outputs": [
    {
     "ename": "error",
     "evalue": "runtime_error",
     "output_type": "error",
     "traceback": [
      "\u001b[31mException: Division_by_zero.\nRaised by primitive operation at unknown location\nCalled from Stdlib__Fun.protect in file \"fun.ml\", line 33, characters 8-15\nRe-raised at Stdlib__Fun.protect in file \"fun.ml\", line 38, characters 6-52\nCalled from Topeval.load_lambda in file \"toplevel/byte/topeval.ml\", line 89, characters 4-150\n\u001b[0m"
     ]
    }
   ],
   "source": [
    "{priimek=\"Pokraculja\"; ime=\"Mojca\"; rojstvo=1/0} ;;"
   ]
  },
  {
   "cell_type": "code",
   "execution_count": 4,
   "metadata": {
    "vscode": {
     "languageId": "ocaml"
    }
   },
   "outputs": [
    {
     "data": {
      "text/plain": [
       "type number = Zero | Succ of number | Pred of number\n"
      ]
     },
     "execution_count": 4,
     "metadata": {},
     "output_type": "execute_result"
    },
    {
     "data": {
      "text/plain": [
       "val simp : number -> number = <fun>\n"
      ]
     },
     "execution_count": 4,
     "metadata": {},
     "output_type": "execute_result"
    },
    {
     "data": {
      "text/plain": [
       "- : number = Pred Zero\n"
      ]
     },
     "execution_count": 4,
     "metadata": {},
     "output_type": "execute_result"
    },
    {
     "data": {
      "text/plain": [
       "- : number = Succ Zero\n"
      ]
     },
     "execution_count": 4,
     "metadata": {},
     "output_type": "execute_result"
    }
   ],
   "source": [
    "type number = Zero | Succ of number| Pred of number ;;\n",
    "\n",
    "let rec simp num = \n",
    "  match num with\n",
    "  | Zero -> Zero\n",
    "  | Succ x -> (\n",
    "      match x with\n",
    "      | Pred y -> simp y\n",
    "      | _ -> Succ (simp x)\n",
    "    )\n",
    "  | Pred x -> (\n",
    "      match x with\n",
    "      | Succ y -> simp y\n",
    "      | _ -> Pred (simp x)\n",
    "    ) ;;\n",
    "\n",
    "simp (Pred (Succ (Succ (Pred (Pred (Succ (Pred Zero))))))) ;;\n",
    "simp (Succ Zero);;"
   ]
  },
  {
   "cell_type": "code",
   "execution_count": 12,
   "metadata": {
    "vscode": {
     "languageId": "ocaml"
    }
   },
   "outputs": [
    {
     "data": {
      "text/plain": [
       "type lexeme = PLUS | MINUS | TIMES | CONST of int\n"
      ]
     },
     "execution_count": 12,
     "metadata": {},
     "output_type": "execute_result"
    },
    {
     "data": {
      "text/plain": [
       "type expr =\n",
       "    Num of int\n",
       "  | Add of expr * expr\n",
       "  | Sub of expr * expr\n",
       "  | Mul of expr * expr\n"
      ]
     },
     "execution_count": 12,
     "metadata": {},
     "output_type": "execute_result"
    },
    {
     "data": {
      "text/plain": [
       "val elb_lexer : string -> lexeme list = <fun>\n"
      ]
     },
     "execution_count": 12,
     "metadata": {},
     "output_type": "execute_result"
    },
    {
     "data": {
      "text/plain": [
       "val elb_parser : lexeme list -> expr = <fun>\n"
      ]
     },
     "execution_count": 12,
     "metadata": {},
     "output_type": "execute_result"
    },
    {
     "data": {
      "text/plain": [
       "val list : lexeme list =\n",
       "  [CONST 100; CONST 2; CONST 3; PLUS; PLUS; CONST 4; MINUS; CONST 5;\n",
       "   CONST 666; MINUS; TIMES]\n"
      ]
     },
     "execution_count": 12,
     "metadata": {},
     "output_type": "execute_result"
    },
    {
     "data": {
      "text/plain": [
       "- : expr =\n",
       "Mul (Sub (Num 666, Num 5), Sub (Num 4, Add (Add (Num 3, Num 2), Num 100)))\n"
      ]
     },
     "execution_count": 12,
     "metadata": {},
     "output_type": "execute_result"
    }
   ],
   "source": [
    "type lexeme = PLUS | MINUS | TIMES | CONST of int\n",
    "\n",
    "type expr =\n",
    "  | Num of int\n",
    "  | Add of expr * expr\n",
    "  | Sub of expr * expr\n",
    "  | Mul of expr * expr ;;\n",
    "\n",
    "let elb_lexer ( string_expression : string) : lexeme list =\n",
    "  let f = function\n",
    "    | \"-\" -> MINUS\n",
    "    | \"+\" -> PLUS\n",
    "    | \"*\" -> TIMES\n",
    "    | n -> CONST ( int_of_string n)\n",
    "  in\n",
    "   List.map f\n",
    "    (List.filter ((<>) \"\") (String. split_on_char ' ' string_expression )) ;;\n",
    "\n",
    "let elb_parser ( lexemes : lexeme list) : expr =\n",
    "  let rec loop stack lexemes =\n",
    "    match stack , lexemes with\n",
    "    | s, CONST n :: rest -> loop (Num n :: s) rest\n",
    "    | e1 :: e2 :: s, PLUS :: rest -> loop (Add (e1 , e2) :: s) rest\n",
    "    | e1 :: e2 :: s, MINUS :: rest -> loop (Sub (e1 , e2) :: s) rest\n",
    "    | e1 :: e2 :: s, TIMES :: rest -> loop (Mul (e1 , e2) :: s) rest\n",
    "    | [e], [] -> e\n",
    "    | _ -> failwith \"cannot parse\"\n",
    "  in\n",
    "    loop [] lexemes ;;\n",
    "\n",
    "let list = elb_lexer(\"100 2 3 + + 4 - 5 666 - *\") ;;\n",
    "elb_parser list ;;"
   ]
  },
  {
   "cell_type": "code",
   "execution_count": 13,
   "metadata": {
    "vscode": {
     "languageId": "ocaml"
    }
   },
   "outputs": [
    {
     "data": {
      "text/plain": [
       "val apply_reversed : ('a -> 'b -> 'c) -> 'b -> 'a -> 'c = <fun>\n"
      ]
     },
     "execution_count": 13,
     "metadata": {},
     "output_type": "execute_result"
    }
   ],
   "source": [
    "let apply_reversed f b a = f a b ;;"
   ]
  },
  {
   "cell_type": "code",
   "execution_count": 18,
   "metadata": {
    "vscode": {
     "languageId": "ocaml"
    }
   },
   "outputs": [
    {
     "data": {
      "text/plain": [
       "module Combinators :\n",
       "  sig\n",
       "    val succ : int -> int\n",
       "    val const : 'a -> 'b -> 'a\n",
       "    val flip : ('a -> 'b -> 'c) -> 'b -> 'a -> 'c\n",
       "    val negate : ('a -> bool) -> 'a -> bool\n",
       "  end\n"
      ]
     },
     "execution_count": 18,
     "metadata": {},
     "output_type": "execute_result"
    },
    {
     "data": {
      "text/plain": [
       "val f : int -> int = <fun>\n"
      ]
     },
     "execution_count": 18,
     "metadata": {},
     "output_type": "execute_result"
    }
   ],
   "source": [
    "module Combinators : sig\n",
    "  val succ : int -> int\n",
    "  val const : 'a -> 'b -> 'a\n",
    "  val flip : ('a -> 'b -> 'c) -> 'b -> 'a -> 'c\n",
    "  val negate : ('a -> bool) -> 'a -> bool\n",
    "end = struct\n",
    "  let succ x = x + 1\n",
    "  let const x _ = x\n",
    "  let flip f x y = f y x\n",
    "  let negate f x = not (f x)\n",
    "end\n",
    "\n",
    "let f = Combinators.flip Combinators.const Combinators.negate Combinators.succ"
   ]
  },
  {
   "cell_type": "code",
   "execution_count": 22,
   "metadata": {
    "vscode": {
     "languageId": "ocaml"
    }
   },
   "outputs": [
    {
     "data": {
      "text/plain": [
       "type value = int\n"
      ]
     },
     "execution_count": 22,
     "metadata": {},
     "output_type": "execute_result"
    },
    {
     "data": {
      "text/plain": [
       "type tree23 =\n",
       "    Empty\n",
       "  | Two of tree23 * value * tree23\n",
       "  | Three of tree23 * value * tree23 * value * tree23\n"
      ]
     },
     "execution_count": 22,
     "metadata": {},
     "output_type": "execute_result"
    }
   ],
   "source": [
    "type value = int ;;\n",
    "\n",
    "type tree23 =\n",
    "  | Empty\n",
    "  | Two of tree23 * value * tree23\n",
    "  | Three of tree23 * value * tree23 * value * tree23 ;;"
   ]
  },
  {
   "cell_type": "code",
   "execution_count": 29,
   "metadata": {
    "vscode": {
     "languageId": "ocaml"
    }
   },
   "outputs": [
    {
     "data": {
      "text/plain": [
       "val vipavsko : int -> int = <fun>\n"
      ]
     },
     "execution_count": 29,
     "metadata": {},
     "output_type": "execute_result"
    },
    {
     "data": {
      "text/plain": [
       "- : int list = [0; 1; -2; 5; -12; 29; -70; 169]\n"
      ]
     },
     "execution_count": 29,
     "metadata": {},
     "output_type": "execute_result"
    }
   ],
   "source": [
    "let rec vipavsko n =\n",
    "    let memo = Array.make(n+1) None in\n",
    "    let rec vipavsko' n =\n",
    "        match memo.(n) with\n",
    "        | Some x -> x\n",
    "        | None -> (\n",
    "            let result = match n with \n",
    "            | 0 -> 0\n",
    "            | 1 -> 1\n",
    "            | n -> vipavsko'(n-2) - 2 * vipavsko'(n-1) in\n",
    "            memo.(n) <- Some result;\n",
    "            result\n",
    "        )\n",
    "    in vipavsko' n ;;\n",
    "\n",
    "List.map vipavsko [0; 1; 2; 3; 4; 5; 6; 7] ;;"
   ]
  }
 ],
 "metadata": {
  "kernelspec": {
   "display_name": "OCaml 4.13.0",
   "language": "OCaml",
   "name": "ocaml-jupyter"
  },
  "language_info": {
   "codemirror_mode": "text/x-ocaml",
   "file_extension": ".ml",
   "mimetype": "text/x-ocaml",
   "name": "OCaml",
   "nbconverter_exporter": null,
   "pygments_lexer": "OCaml",
   "version": "4.13.0"
  },
  "orig_nbformat": 4
 },
 "nbformat": 4,
 "nbformat_minor": 2
}
