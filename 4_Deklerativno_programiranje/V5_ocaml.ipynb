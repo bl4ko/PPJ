{
 "cells": [
  {
   "cell_type": "code",
   "execution_count": 57,
   "id": "optional-outdoors",
   "metadata": {
    "vscode": {
     "languageId": "ocaml"
    }
   },
   "outputs": [
    {
     "data": {
      "text/plain": [
       "val stevila : int list = [1; 2; 3; 4]\n"
      ]
     },
     "execution_count": 57,
     "metadata": {},
     "output_type": "execute_result"
    },
    {
     "data": {
      "text/plain": [
       "- : int = 1\n"
      ]
     },
     "execution_count": 57,
     "metadata": {},
     "output_type": "execute_result"
    },
    {
     "data": {
      "text/plain": [
       "- : int list = [2; 3; 4]\n"
      ]
     },
     "execution_count": 57,
     "metadata": {},
     "output_type": "execute_result"
    },
    {
     "data": {
      "text/plain": [
       "- : int list = [3; 4]\n"
      ]
     },
     "execution_count": 57,
     "metadata": {},
     "output_type": "execute_result"
    },
    {
     "data": {
      "text/plain": [
       "val nizi : string list = [\"1\"; \"2\"; \"3\"; \"4\"]\n"
      ]
     },
     "execution_count": 57,
     "metadata": {},
     "output_type": "execute_result"
    },
    {
     "data": {
      "text/plain": [
       "val nizi : int list = [1; 4; 9; 16]\n"
      ]
     },
     "execution_count": 57,
     "metadata": {},
     "output_type": "execute_result"
    }
   ],
   "source": [
    "(* zapišemo seznam tipa \"int list\" *)\n",
    "let stevila = [1; 2; 3; 4] ;;\n",
    "\n",
    "(* dostopamo do glave in repa seznama *)\n",
    "List.hd stevila ;; (* vrne 1 *)\n",
    "List.tl stevila ;; (* vrne [2; 3; 4] *)\n",
    "\n",
    "List.tl (List.tl stevila) ;; (* Vrne [3; 4]*)\n",
    "\n",
    "(* na vsakem elementu pokličemo funkcijo string_of_int *)\n",
    "let nizi = List.map string_of_int stevila\n",
    "\n",
    "(* kvadriramo vsak element seznama s pomočjo anonimne (λ) funkcije *)\n",
    "let nizi = List.map (fun x -> x*x) stevila ;;"
   ]
  },
  {
   "attachments": {},
   "cell_type": "markdown",
   "id": "8f8f5160",
   "metadata": {},
   "source": [
    "### Status"
   ]
  },
  {
   "cell_type": "code",
   "execution_count": 58,
   "id": "c1982472",
   "metadata": {
    "vscode": {
     "languageId": "ocaml"
    }
   },
   "outputs": [
    {
     "data": {
      "text/plain": [
       "type status = { version : string; code : int; }\n"
      ]
     },
     "execution_count": 58,
     "metadata": {},
     "output_type": "execute_result"
    },
    {
     "data": {
      "text/plain": [
       "val my_status : status = {version = \"HTTP/1.1\"; code = 200}\n"
      ]
     },
     "execution_count": 58,
     "metadata": {},
     "output_type": "execute_result"
    },
    {
     "data": {
      "text/plain": [
       "val string_of_status : status -> string = <fun>\n"
      ]
     },
     "execution_count": 58,
     "metadata": {},
     "output_type": "execute_result"
    },
    {
     "data": {
      "text/plain": [
       "- : string = \"HTTP/1.1 200 OK\"\n"
      ]
     },
     "execution_count": 58,
     "metadata": {},
     "output_type": "execute_result"
    }
   ],
   "source": [
    "type status = {\n",
    "  version: string;\n",
    "  code: int;\n",
    "}\n",
    "\n",
    "let my_status = {\n",
    "  version = \"HTTP/1.1\";\n",
    "  code = 200;\n",
    "}\n",
    "\n",
    "let string_of_status s =\n",
    "  s.version ^ \" \" ^\n",
    "  string_of_int s.code ^ \" \" ^\n",
    "  (\n",
    "   match s.code with\n",
    "   | 100 -> \"Continue\"\n",
    "   | 200 -> \"OK\"\n",
    "   | 301 -> \"Moved Permanently\"\n",
    "   | 404 -> \"Not Found\"\n",
    "   | 418 -> \"I'm a teapot\"\n",
    "   | 503 -> \"Service Unavailable\"\n",
    "       (* in še mnogo več ... *)\n",
    "   | _ -> \"\" (* neznan status *)\n",
    "  );;\n",
    "\n",
    "string_of_status (my_status);;"
   ]
  },
  {
   "attachments": {},
   "cell_type": "markdown",
   "id": "7bb17293",
   "metadata": {},
   "source": [
    "### Dates"
   ]
  },
  {
   "cell_type": "code",
   "execution_count": 59,
   "id": "f7f5ed7e",
   "metadata": {
    "vscode": {
     "languageId": "ocaml"
    }
   },
   "outputs": [
    {
     "data": {
      "text/plain": [
       "type date = {\n",
       "  dayOfWeek : string;\n",
       "  dayOfMonth : int;\n",
       "  month : string;\n",
       "  year : int;\n",
       "  hour : int;\n",
       "  minute : int;\n",
       "  second : int;\n",
       "  timeZone : string;\n",
       "}\n"
      ]
     },
     "execution_count": 59,
     "metadata": {},
     "output_type": "execute_result"
    },
    {
     "data": {
      "text/plain": [
       "val string_of_date : date -> string = <fun>\n"
      ]
     },
     "execution_count": 59,
     "metadata": {},
     "output_type": "execute_result"
    },
    {
     "data": {
      "text/plain": [
       "val my_data : date =\n",
       "  {dayOfWeek = \"Mon\"; dayOfMonth = 12; month = \"Feb\"; year = 2018; hour = 12;\n",
       "   minute = 12; second = 12; timeZone = \"CET\"}\n"
      ]
     },
     "execution_count": 59,
     "metadata": {},
     "output_type": "execute_result"
    },
    {
     "data": {
      "text/plain": [
       "- : string = \"Mon, 12 Feb 2018 12:12:12 CET\"\n"
      ]
     },
     "execution_count": 59,
     "metadata": {},
     "output_type": "execute_result"
    }
   ],
   "source": [
    "type date = {\n",
    "   dayOfWeek: string;\n",
    "   dayOfMonth: int;\n",
    "   month: string;\n",
    "   year: int;\n",
    "   hour: int;\n",
    "   minute: int;\n",
    "   second: int;\n",
    "   timeZone: string;\n",
    "}\n",
    "\n",
    "let string_of_date d = \n",
    "  d.dayOfWeek ^ \", \" ^\n",
    "  string_of_int d.dayOfMonth ^ \" \" ^\n",
    "  d.month ^ \" \" ^\n",
    "  string_of_int d.year ^ \" \" ^\n",
    "  string_of_int d.hour ^ \":\" ^\n",
    "  string_of_int d.minute ^ \":\" ^\n",
    "  string_of_int d.second ^ \" \" ^\n",
    "  d.timeZone ;;\n",
    "\n",
    "let my_data = {\n",
    "  dayOfWeek = \"Mon\";\n",
    "  dayOfMonth = 12;\n",
    "  month = \"Feb\";\n",
    "  year = 2018;\n",
    "  hour = 12;\n",
    "  minute = 12;\n",
    "  second = 12;\n",
    "  timeZone = \"CET\";\n",
    "} ;;\n",
    "\n",
    "string_of_date (my_data);; (* \"Mon, 12 Feb 2018 12:12:12 CET\" *)"
   ]
  },
  {
   "attachments": {},
   "cell_type": "markdown",
   "id": "7b60ec97",
   "metadata": {},
   "source": [
    "### URI"
   ]
  },
  {
   "cell_type": "code",
   "execution_count": 60,
   "id": "ebf5ae72",
   "metadata": {
    "vscode": {
     "languageId": "ocaml"
    }
   },
   "outputs": [
    {
     "data": {
      "text/plain": [
       "type host =\n",
       "    IPV4 of int * int * int * int\n",
       "  | IPV6 of string * string * string * string * string * string * string *\n",
       "      string\n",
       "  | HostName of string list\n"
      ]
     },
     "execution_count": 60,
     "metadata": {},
     "output_type": "execute_result"
    },
    {
     "data": {
      "text/plain": [
       "val string_of_host : host -> string = <fun>\n"
      ]
     },
     "execution_count": 60,
     "metadata": {},
     "output_type": "execute_result"
    },
    {
     "data": {
      "text/plain": [
       "val example_host : host = HostName [\"www\"; \"google\"; \"com\"]\n"
      ]
     },
     "execution_count": 60,
     "metadata": {},
     "output_type": "execute_result"
    },
    {
     "data": {
      "text/plain": [
       "- : string = \"www.google.com\"\n"
      ]
     },
     "execution_count": 60,
     "metadata": {},
     "output_type": "execute_result"
    },
    {
     "data": {
      "text/plain": [
       "type uri = {\n",
       "  scheme : string;\n",
       "  user : string option;\n",
       "  password : string option;\n",
       "  host : host option;\n",
       "  port : int option;\n",
       "  path : string list;\n",
       "  query : (string * string) list;\n",
       "  fragment : string option;\n",
       "}\n"
      ]
     },
     "execution_count": 60,
     "metadata": {},
     "output_type": "execute_result"
    },
    {
     "data": {
      "text/plain": [
       "val string_of_path : string list -> string = <fun>\n"
      ]
     },
     "execution_count": 60,
     "metadata": {},
     "output_type": "execute_result"
    },
    {
     "data": {
      "text/plain": [
       "val string_of_query1 : string * string -> string = <fun>\n"
      ]
     },
     "execution_count": 60,
     "metadata": {},
     "output_type": "execute_result"
    },
    {
     "data": {
      "text/plain": [
       "val string_of_query : (string * string) list -> string = <fun>\n"
      ]
     },
     "execution_count": 60,
     "metadata": {},
     "output_type": "execute_result"
    },
    {
     "data": {
      "text/plain": [
       "val string_of_uri : uri -> string = <fun>\n"
      ]
     },
     "execution_count": 60,
     "metadata": {},
     "output_type": "execute_result"
    }
   ],
   "source": [
    "(* URI *)\n",
    "type host = \n",
    "    | IPV4 of int * int * int * int\n",
    "    | IPV6 of string * string * string * string * string * string * string * string\n",
    "    | HostName of string list ;;\n",
    "\n",
    "let string_of_host h =\n",
    "    match h with\n",
    "    | IPV4 (a, b, c, d) ->\n",
    "\tstring_of_int a ^ \".\" ^ string_of_int b ^ \".\" ^ string_of_int c ^ \".\" ^ string_of_int d\n",
    "    | IPV6 (a, b, c, d, e, f, g, h) ->\n",
    "\t\"[\" ^ a ^ \":\" ^ b ^ \":\" ^ c ^ \":\" ^ d ^ \":\" ^ e ^ \":\" ^ f ^ \":\" ^ g ^ \":\" ^ h ^ \"]\"\n",
    "    | HostName hn -> String.concat \".\" hn ;;\n",
    "\n",
    "let example_host = HostName [\"www\"; \"google\"; \"com\"] ;;\n",
    "\n",
    "string_of_host example_host ;;\n",
    "\n",
    "type uri = {\n",
    "  scheme: string; (* To polje je obvezno *)\n",
    "  user: string option; (* Ostala pa ne zato dodamo option*)\n",
    "  password: string option;\n",
    "  host: host option;\n",
    "  port: int option;\n",
    "  path: string list;\n",
    "  query: (string * string) list; (* seznam kljucev in vrednosti *)\n",
    "  fragment: string option;\n",
    "} ;;\n",
    "\n",
    "let string_of_path p = String.concat \"/\" p ;;\n",
    "\n",
    "let string_of_query1 (k, v) = k ^ \"=\" ^ v ;;\n",
    "\n",
    "let string_of_query q = String.concat \"&\" (List.map string_of_query1 q) ;;\n",
    "\n",
    "let string_of_uri u =\n",
    "  u.scheme ^ \":\" ^\n",
    "  (\n",
    "   match u.host with\n",
    "   | None -> \"\"\n",
    "   | Some host -> \"//\" ^ (\n",
    "        match u.user with\n",
    "        | None -> \"\"\n",
    "        | Some user -> user ^ (\n",
    "             match u.password with\n",
    "             | None -> \"\"\n",
    "             | Some pass -> \":\" ^ pass\n",
    "            ) ^ \"@\"\n",
    "       ) ^ string_of_host host ^ (\n",
    "        match u.port with\n",
    "        | None -> \"\"\n",
    "        | Some port -> string_of_int port\n",
    "       )\n",
    "  ) ^ (\n",
    "    match u.path with\n",
    "    | [] -> \"\"\n",
    "    | path -> \"/\" ^ string_of_path path\n",
    "  ) ^ (\n",
    "    match u.query with\n",
    "    | [] -> \"\"\n",
    "    | query -> \"?\" ^ string_of_query query\n",
    "  ) ^ (\n",
    "    match u.fragment with\n",
    "    | None -> \"\"\n",
    "    | Some fragment -> \"#\" ^ fragment\n",
    "  );;\n"
   ]
  },
  {
   "attachments": {},
   "cell_type": "markdown",
   "id": "be4cac0a",
   "metadata": {},
   "source": [
    "### Response"
   ]
  },
  {
   "cell_type": "code",
   "execution_count": 61,
   "id": "de26dc16",
   "metadata": {
    "vscode": {
     "languageId": "ocaml"
    }
   },
   "outputs": [
    {
     "data": {
      "text/plain": [
       "type expires = Date of date | Number of int\n"
      ]
     },
     "execution_count": 61,
     "metadata": {},
     "output_type": "execute_result"
    },
    {
     "data": {
      "text/plain": [
       "val string_of_expires : expires -> string = <fun>\n"
      ]
     },
     "execution_count": 61,
     "metadata": {},
     "output_type": "execute_result"
    },
    {
     "data": {
      "text/plain": [
       "type transferEncoding = Chunked | Compress | Deflate | Gzip | Identity\n"
      ]
     },
     "execution_count": 61,
     "metadata": {},
     "output_type": "execute_result"
    },
    {
     "data": {
      "text/plain": [
       "val string_of_transferEncoding : transferEncoding -> string = <fun>\n"
      ]
     },
     "execution_count": 61,
     "metadata": {},
     "output_type": "execute_result"
    },
    {
     "data": {
      "text/plain": [
       "type field =\n",
       "    Server of string\n",
       "  | ContentLength of int\n",
       "  | ContentType of string\n",
       "  | TransferEncoding of transferEncoding\n",
       "  | Date of date\n",
       "  | Expires of expires\n",
       "  | LastModified of date\n",
       "  | Location of uri\n"
      ]
     },
     "execution_count": 61,
     "metadata": {},
     "output_type": "execute_result"
    },
    {
     "data": {
      "text/plain": [
       "val string_of_field : field -> string = <fun>\n"
      ]
     },
     "execution_count": 61,
     "metadata": {},
     "output_type": "execute_result"
    }
   ],
   "source": [
    "(*Polje glave *)\n",
    "type expires = | Date of date | Number of int\n",
    "\n",
    "let string_of_expires e =\n",
    "  match e with\n",
    "  | Date d -> string_of_date d\n",
    "  | Number n -> string_of_int n\n",
    "\n",
    "type transferEncoding = Chunked | Compress | Deflate | Gzip | Identity\n",
    "\n",
    "let string_of_transferEncoding t =\n",
    "  match t with\n",
    "  | Chunked -> \"chunked\"\n",
    "  | Compress -> \"compress\"\n",
    "  | Deflate -> \"deflate\"\n",
    "  | Gzip -> \"gzip\"\n",
    "  | Identity -> \"identity\"\n",
    "\n",
    "type field =\n",
    "    | Server of string\n",
    "    | ContentLength of int\n",
    "    | ContentType of string\n",
    "    | TransferEncoding of transferEncoding\n",
    "    | Date of date\n",
    "    | Expires of expires\n",
    "    | LastModified of date\n",
    "    | Location of uri\n",
    "\n",
    "    let string_of_field f =\n",
    "  match f with\n",
    "  | Server s -> \"Server: \" ^ s\n",
    "  | ContentLength l -> \"Content-Length: \" ^ string_of_int l\n",
    "  | ContentType ct -> \"Content-Type: \" ^ ct\n",
    "  | Date d -> \"Date: \" ^ string_of_date d\n",
    "  | Expires e -> \"Expires: \" ^ string_of_expires e\n",
    "  | Location uri -> \"Location: \" ^ string_of_uri uri\n",
    "  | LastModified lm -> \"Last-Modified: \" ^ string_of_date lm\n",
    "  | TransferEncoding te -> \"Transfer-Encoding: \" ^ string_of_transferEncoding te"
   ]
  },
  {
   "attachments": {},
   "cell_type": "markdown",
   "id": "dc6369fc",
   "metadata": {},
   "source": [
    "### Resposnse"
   ]
  },
  {
   "cell_type": "code",
   "execution_count": 62,
   "id": "72c1eb3b",
   "metadata": {
    "vscode": {
     "languageId": "ocaml"
    }
   },
   "outputs": [
    {
     "data": {
      "text/plain": [
       "type response = { status : status; headers : field list; body : string; }\n"
      ]
     },
     "execution_count": 62,
     "metadata": {},
     "output_type": "execute_result"
    },
    {
     "data": {
      "text/plain": [
       "val string_of_response : response -> string = <fun>\n"
      ]
     },
     "execution_count": 62,
     "metadata": {},
     "output_type": "execute_result"
    },
    {
     "data": {
      "text/plain": [
       "val my_response : response =\n",
       "  {status = {version = \"HTTP/1.1\"; code = 418};\n",
       "   headers =\n",
       "    [Server \"gws\"; ContentLength 1024;\n",
       "     ContentType \"text/html; charset=UTF-8\";\n",
       "     Date\n",
       "      {dayOfWeek = \"Fri\"; dayOfMonth = 30; month = \"Mar\"; year = 2018;\n",
       "       hour = 20; minute = 16; second = 32; timeZone = \"CEST\"};\n",
       "     Date\n",
       "      {dayOfWeek = \"Thu\"; dayOfMonth = 29; month = \"Mar\"; year = 2019;\n",
       "       hour = 16; minute = 28; second = 26; timeZone = \"CEST\"};\n",
       "     Location\n",
       "      {scheme = \"http\"; user = Some \"admin\";\n",
       "       password = Some \"ultra_safe_password_1A!\";\n",
       "       host =\n",
       "        Some\n",
       "         (IPV6 (\"0000\", \"1234\", \"abcd\", \"01ab\", \"ffff\", \"9999\", \"534e\",\n",
       "           \"a3f1\"));\n",
       "       port = None; path = [\"web\"; \"page\"]; query = [(\"a\", \"b\"); (\"x\", \"y\")];\n",
       "       fragment = Some \"top\"};\n",
       "     TransferEncoding Gzip];\n",
       "   body = \"Content of the web page.\"}\n"
      ]
     },
     "execution_count": 62,
     "metadata": {},
     "output_type": "execute_result"
    },
    {
     "data": {
      "text/plain": [
       "- : unit = ()\n"
      ]
     },
     "execution_count": 62,
     "metadata": {},
     "output_type": "execute_result"
    }
   ],
   "source": [
    "type response = {\n",
    "    status : status;\n",
    "    headers : field list;\n",
    "    body : string;\n",
    "}\n",
    "\n",
    "let string_of_response r =\n",
    "  string_of_status r.status ^ \"\\r\\n\" ^\n",
    "  String.concat \"\\r\\n\" (List.map string_of_field (r.headers)) ^\n",
    "  \"\\r\\n\\r\\n\" ^\n",
    "  r.body\n",
    "\n",
    "let my_response = {\n",
    "    status = {\n",
    "        version = \"HTTP/1.1\";\n",
    "        code = 418;\n",
    "    };\n",
    "    headers = [\n",
    "        Server \"gws\";\n",
    "        ContentLength 1024;\n",
    "        ContentType \"text/html; charset=UTF-8\";\n",
    "        Date {\n",
    "            dayOfWeek = \"Fri\";\n",
    "            dayOfMonth = 30;\n",
    "            month = \"Mar\";\n",
    "            year = 2018;\n",
    "            hour = 20;\n",
    "            minute = 16;\n",
    "            second = 32;\n",
    "            timeZone = \"CEST\"\n",
    "        };\n",
    "        (* Expires (Number ~1), *)\n",
    "        Date {\n",
    "            dayOfWeek = \"Thu\";\n",
    "            dayOfMonth = 29;\n",
    "            month = \"Mar\";\n",
    "            year = 2019;\n",
    "            hour = 16;\n",
    "            minute = 28;\n",
    "            second = 26;\n",
    "            timeZone = \"CEST\";\n",
    "        };\n",
    "        Location {\n",
    "            scheme = \"http\"; (* obvezno polje, zato spredaj nima \"SOME\" *)\n",
    "            host = Some (IPV6 (\"0000\", \"1234\", \"abcd\", \"01ab\", \"ffff\", \"9999\", \"534e\", \"a3f1\"));\n",
    "            (* host = Some (IPV4 (127, 0, 0, 1)); *)\n",
    "            (* host = Some (HostName [\"google\"; \"si\"]); *)\n",
    "            user = Some \"admin\";\n",
    "            password = Some \"ultra_safe_password_1A!\";\n",
    "            port = None; (* to polje ni podano *)\n",
    "            path = [\"web\"; \"page\"];\n",
    "            query = [(\"a\", \"b\"); (\"x\", \"y\")];\n",
    "            fragment = Some \"top\"\n",
    "        };\n",
    "        TransferEncoding Gzip;\n",
    "    ];\n",
    "    body = \"Content of the web page.\";\n",
    "};; (* ti podpičji sta obvezni, saj sledi nerezervirana beseda *)\n",
    "\n",
    "(* prikažimo my_response *)\n",
    "print_string (string_of_response my_response) ;;"
   ]
  }
 ],
 "metadata": {
  "kernelspec": {
   "display_name": "OCaml 4.13.0",
   "language": "OCaml",
   "name": "ocaml-jupyter"
  },
  "language_info": {
   "codemirror_mode": "text/x-ocaml",
   "file_extension": ".ml",
   "mimetype": "text/x-ocaml",
   "name": "OCaml",
   "nbconverter_exporter": null,
   "pygments_lexer": "OCaml",
   "version": "4.13.0"
  }
 },
 "nbformat": 4,
 "nbformat_minor": 5
}
