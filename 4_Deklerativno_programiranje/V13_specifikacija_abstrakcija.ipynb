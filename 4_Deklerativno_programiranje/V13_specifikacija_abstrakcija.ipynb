{
 "cells": [
  {
   "cell_type": "code",
   "execution_count": 20,
   "id": "b4aca1e7",
   "metadata": {
    "vscode": {
     "languageId": "ocaml"
    }
   },
   "outputs": [
    {
     "data": {
      "text/plain": [
       "module type BOVINE =\n",
       "  sig\n",
       "    type t\n",
       "    val cow : t\n",
       "    val equal : t -> t -> bool\n",
       "    val to_string : t -> string\n",
       "  end\n"
      ]
     },
     "execution_count": 20,
     "metadata": {},
     "output_type": "execute_result"
    },
    {
     "data": {
      "text/plain": [
       "module Cow : BOVINE\n"
      ]
     },
     "execution_count": 20,
     "metadata": {},
     "output_type": "execute_result"
    },
    {
     "data": {
      "text/plain": [
       "val c1 : Cow.t = <abstr>\n"
      ]
     },
     "execution_count": 20,
     "metadata": {},
     "output_type": "execute_result"
    },
    {
     "data": {
      "text/plain": [
       "- : unit = ()\n"
      ]
     },
     "execution_count": 20,
     "metadata": {},
     "output_type": "execute_result"
    },
    {
     "name": "stdout",
     "output_type": "stream",
     "text": [
      "Our first cow says: Moo\n"
     ]
    },
    {
     "data": {
      "text/plain": [
       "- : unit = ()\n"
      ]
     },
     "execution_count": 20,
     "metadata": {},
     "output_type": "execute_result"
    }
   ],
   "source": [
    "module type BOVINE = \n",
    "  sig\n",
    "    type t\n",
    "    val cow : t\n",
    "    val equal : t -> t -> bool\n",
    "    val to_string : t -> string\n",
    "  end ;;\n",
    "\n",
    "module Cow : BOVINE =\n",
    "  struct\n",
    "    type t = string\n",
    "    let cow = \"Moo\"\n",
    "    let equal x y = ( x = y)\n",
    "    let to_string x = x\n",
    "  end ;;\n",
    "\n",
    "let c1 = Cow.cow ;;\n",
    "let _ = Printf.printf \"Our first cow says: %s\\n\" (Cow.to_string c1) ;; flush stdout ;;"
   ]
  },
  {
   "attachments": {},
   "cell_type": "markdown",
   "id": "residential-answer",
   "metadata": {},
   "source": [
    "# Množice\n",
    "\n",
    "Ogledali si bomo dve implementaciji podatkovnega tipa [množica](https://en.wikipedia.org/wiki/Set_(abstract_data_type)). V jeziku OCaml množico opišemo z naslednjo signaturo:\n",
    "<a id='module_set_cell'></a>"
   ]
  },
  {
   "cell_type": "code",
   "execution_count": 3,
   "id": "moving-highway",
   "metadata": {
    "vscode": {
     "languageId": "ocaml"
    }
   },
   "outputs": [
    {
     "data": {
      "text/plain": [
       "type order = Less | Equal | Greater\n"
      ]
     },
     "execution_count": 3,
     "metadata": {},
     "output_type": "execute_result"
    },
    {
     "data": {
      "text/plain": [
       "module type SET =\n",
       "  sig\n",
       "    type element\n",
       "    val cmp : element -> element -> order\n",
       "    type set\n",
       "    val empty : set\n",
       "    val member : element -> set -> bool\n",
       "    val add : element -> set -> set\n",
       "    val remove : element -> set -> set\n",
       "    val to_list : set -> element list\n",
       "    val fold : ('a -> element -> 'a) -> 'a -> set -> 'a\n",
       "  end\n"
      ]
     },
     "execution_count": 3,
     "metadata": {},
     "output_type": "execute_result"
    }
   ],
   "source": [
    "(* Signatura množica *)\n",
    "type order = Less | Equal | Greater\n",
    "\n",
    "module type SET =\n",
    "sig\n",
    "    type element\n",
    "    val cmp : element -> element -> order\n",
    "    type set\n",
    "    val empty : set\n",
    "    val member : element -> set -> bool\n",
    "    val add : element -> set -> set\n",
    "    val remove : element -> set -> set\n",
    "    val to_list : set -> element list\n",
    "    val fold : ('a -> element -> 'a) -> 'a -> set -> 'a\n",
    "end"
   ]
  },
  {
   "cell_type": "code",
   "execution_count": 13,
   "id": "three-device",
   "metadata": {
    "vscode": {
     "languageId": "ocaml"
    }
   },
   "outputs": [
    {
     "data": {
      "text/plain": [
       "val ocaml_cmp : 'a -> 'a -> order = <fun>\n"
      ]
     },
     "execution_count": 13,
     "metadata": {},
     "output_type": "execute_result"
    },
    {
     "data": {
      "text/plain": [
       "module IntListSet :\n",
       "  sig\n",
       "    type element = int\n",
       "    val cmp : element -> element -> order\n",
       "    type set\n",
       "    val empty : set\n",
       "    val member : element -> set -> bool\n",
       "    val add : element -> set -> set\n",
       "    val remove : element -> set -> set\n",
       "    val to_list : set -> element list\n",
       "    val fold : ('a -> element -> 'a) -> 'a -> set -> 'a\n",
       "  end\n"
      ]
     },
     "execution_count": 13,
     "metadata": {},
     "output_type": "execute_result"
    },
    {
     "data": {
      "text/plain": [
       "val s : IntListSet.set = <abstr>\n"
      ]
     },
     "execution_count": 13,
     "metadata": {},
     "output_type": "execute_result"
    },
    {
     "data": {
      "text/plain": [
       "- : unit = ()\n"
      ]
     },
     "execution_count": 13,
     "metadata": {},
     "output_type": "execute_result"
    },
    {
     "data": {
      "text/plain": [
       "- : unit = ()\n"
      ]
     },
     "execution_count": 13,
     "metadata": {},
     "output_type": "execute_result"
    },
    {
     "name": "stdout",
     "output_type": "stream",
     "text": [
      "Is 2 a member of the set? true\n"
     ]
    },
    {
     "data": {
      "text/plain": [
       "- : unit = ()\n"
      ]
     },
     "execution_count": 13,
     "metadata": {},
     "output_type": "execute_result"
    },
    {
     "data": {
      "text/plain": [
       "- : unit = ()\n"
      ]
     },
     "execution_count": 13,
     "metadata": {},
     "output_type": "execute_result"
    },
    {
     "name": "stdout",
     "output_type": "stream",
     "text": [
      "Is 4 a member of the set? false\n"
     ]
    },
    {
     "data": {
      "text/plain": [
       "- : unit = ()\n"
      ]
     },
     "execution_count": 13,
     "metadata": {},
     "output_type": "execute_result"
    },
    {
     "data": {
      "text/plain": [
       "val s : IntListSet.set = <abstr>\n"
      ]
     },
     "execution_count": 13,
     "metadata": {},
     "output_type": "execute_result"
    },
    {
     "data": {
      "text/plain": [
       "- : unit = ()\n"
      ]
     },
     "execution_count": 13,
     "metadata": {},
     "output_type": "execute_result"
    },
    {
     "data": {
      "text/plain": [
       "- : unit = ()\n"
      ]
     },
     "execution_count": 13,
     "metadata": {},
     "output_type": "execute_result"
    },
    {
     "name": "stdout",
     "output_type": "stream",
     "text": [
      "Is 1 a member of the set? false\n"
     ]
    },
    {
     "data": {
      "text/plain": [
       "- : unit = ()\n"
      ]
     },
     "execution_count": 13,
     "metadata": {},
     "output_type": "execute_result"
    },
    {
     "data": {
      "text/plain": [
       "val list : IntListSet.element list = [3; 2]\n"
      ]
     },
     "execution_count": 13,
     "metadata": {},
     "output_type": "execute_result"
    },
    {
     "data": {
      "text/plain": [
       "- : unit = ()\n"
      ]
     },
     "execution_count": 13,
     "metadata": {},
     "output_type": "execute_result"
    },
    {
     "name": "stdout",
     "output_type": "stream",
     "text": [
      "The set converted to a list is: 3, 2\n"
     ]
    },
    {
     "data": {
      "text/plain": [
       "- : unit = ()\n"
      ]
     },
     "execution_count": 13,
     "metadata": {},
     "output_type": "execute_result"
    },
    {
     "data": {
      "text/plain": [
       "val sum : int = 9\n"
      ]
     },
     "execution_count": 13,
     "metadata": {},
     "output_type": "execute_result"
    },
    {
     "data": {
      "text/plain": [
       "- : unit = ()\n"
      ]
     },
     "execution_count": 13,
     "metadata": {},
     "output_type": "execute_result"
    },
    {
     "name": "stdout",
     "output_type": "stream",
     "text": [
      "The sum of all elements in the set is: 9\n"
     ]
    },
    {
     "data": {
      "text/plain": [
       "- : unit = ()\n"
      ]
     },
     "execution_count": 13,
     "metadata": {},
     "output_type": "execute_result"
    }
   ],
   "source": [
    "(* Funkcija za primerjavo vrednost *)\n",
    "let ocaml_cmp x y =\n",
    "    let c = Stdlib.compare x y in\n",
    "    if c < 0 then Less\n",
    "    else if c > 0 then Greater\n",
    "    else Equal ;;\n",
    "\n",
    "(* Definiramo strukturu IntListSet, ki elemente mnozice hrani v seznami, tip elementov naj bo celo stevilo, za primerjavo pa uporabimo ocaml_cmp *)\n",
    "module IntListSet : SET with type element = int =\n",
    "struct\n",
    "    type element = int\n",
    "    let cmp = ocaml_cmp\n",
    "    type set = int list\n",
    "    let empty = []\n",
    "    let rec member x = function\n",
    "        | [] -> false\n",
    "        | y :: ys -> (x = y) || member x ys\n",
    "    let add x ys = if member x ys then ys else (x :: ys)\n",
    "    let rec remove x = function\n",
    "        | [] -> []\n",
    "        | y :: ys -> if x = y then ys else y :: remove x ys\n",
    "    (* Convert set to list, but our set is alredy list, so just return it*)\n",
    "    let to_list ys = ys \n",
    "\n",
    "    (* Apply the function f to the accumulator x and the every element in the array *)\n",
    "    let rec fold f x = function\n",
    "        | [] -> x\n",
    "        | y :: ys -> fold f (f x y) ys\n",
    "\n",
    "end ;;\n",
    "\n",
    "(* Add some elements to the set *)\n",
    "let s = IntListSet.add 3 (IntListSet.add 2 (IntListSet.add 1 IntListSet.empty)) ;; flush stdout;;\n",
    "let _ = Printf.printf \"Is 2 a member of the set? %b\\n\" (IntListSet.member 2 s) ;; flush stdout;;\n",
    "let _ = Printf.printf \"Is 4 a member of the set? %b\\n\" (IntListSet.member 4 s) ;; flush stdout;;\n",
    "let s = IntListSet.remove 1 s ;; flush stdout;;\n",
    "let _ = Printf.printf \"Is 1 a member of the set? %b\\n\" (IntListSet.member 1 s) ;; flush stdout;;\n",
    "\n",
    "(* Convert the set to a list and print it *)\n",
    "let list = IntListSet.to_list s ;;\n",
    "let _ = Printf.printf \"The set converted to a list is: %s\\n\" \n",
    "  (String.concat \", \" (List.map string_of_int list)) ;;\n",
    "flush stdout;;\n",
    "\n",
    "(* Fold the sum of all elements with 2*)\n",
    "let sum = IntListSet.fold (fun x y -> x + y + 2) 0 s ;;\n",
    "let _ = Printf.printf \"The sum of all elements in the set is: %d\\n\" sum ;; flush stdout;; (* [3, 2] -- > 9*)"
   ]
  },
  {
   "attachments": {},
   "cell_type": "markdown",
   "id": "impaired-listing",
   "metadata": {},
   "source": [
    "## Generični `ListSet`\n",
    "\n",
    "Definicijo `IntListSet` spremenite v funktor `ListSet`, ki sprejme strukturo, ki zadošča signaturi"
   ]
  },
  {
   "cell_type": "code",
   "execution_count": null,
   "id": "sound-disposal",
   "metadata": {
    "vscode": {
     "languageId": "ocaml"
    }
   },
   "outputs": [],
   "source": [
    "module type ORDERED =\n",
    "    sig\n",
    "        type t\n",
    "        val cmp : t -> t -> order\n",
    "    end"
   ]
  },
  {
   "attachments": {},
   "cell_type": "markdown",
   "id": "sporting-render",
   "metadata": {},
   "source": [
    "ter vrne implementacijo množic s seznami. Nastavek je naslednji:\n",
    "\n",
    "    module ListSet(M : ORDERED) : SET with type element = M.t =\n",
    "      struct\n",
    "         ⋮\n",
    "      end\n",
    "\n",
    "Primer uporabe:\n",
    "\n",
    "    # module S = ListSet(struct type t = string  let cmp = ocaml_cmp end) ;;\n",
    "    module S :\n",
    "      sig\n",
    "        type element = string\n",
    "        val cmp : element -> element -> order\n",
    "        type set\n",
    "        val empty : set\n",
    "        val member : element -> set -> bool\n",
    "        val add : element -> set -> set\n",
    "        val remove : element -> set -> set\n",
    "        val to_list : set -> element list\n",
    "        val fold : ('a -> element -> 'a) -> 'a -> set -> 'a\n",
    "      end\n",
    "    # let s = S.add \"foo\" (S.add \"bar\" S.empty) ;;\n",
    "    val s : S.set = <abstr>\n",
    "    # S.member \"foo\" s ;;\n",
    "    - : bool = true\n",
    "\n",
    "Zgledujte se po implementaciji prioritetne vrste `ListQueue` s predavanj.\n",
    "<a id='ListSet'></a>"
   ]
  },
  {
   "cell_type": "code",
   "execution_count": null,
   "id": "neural-interstate",
   "metadata": {
    "vscode": {
     "languageId": "ocaml"
    }
   },
   "outputs": [],
   "source": [
    "module ListSet(M : ORDERED) : SET with type element = M.t =\n",
    "struct\n",
    "    (* dopolni *)\n",
    "end\n",
    "  \n",
    "module S = ListSet(struct type t = string  let cmp = ocaml_cmp end) ;;\n",
    "let s = S.add \"foo\" (S.add \"bar\" S.empty) ;;\n",
    "S.member \"foo\" s ;;"
   ]
  },
  {
   "attachments": {},
   "cell_type": "markdown",
   "id": "imposed-netscape",
   "metadata": {},
   "source": [
    "## Primerjava učinkovitosti `ListSet` in `AVLSet`\n",
    "\n",
    "Modul `AVLSet` implementira funktor, ki tako kot `ListSet` sprejme strukturo s signaturo `ORDERED` in vrne\n",
    "implementacijo množic z AVL drevesi, glej datoteko `avlset.ml`.\n",
    "<a id='AVLSet'></a>"
   ]
  },
  {
   "cell_type": "code",
   "execution_count": null,
   "id": "complicated-incentive",
   "metadata": {
    "vscode": {
     "languageId": "ocaml"
    }
   },
   "outputs": [],
   "source": [
    "(* datoteka avlset.ml *)\n",
    "module AVLSet(M : ORDERED) : SET with type element = M.t =\n",
    "  struct\n",
    "    type element = M.t\n",
    "    let cmp = M.cmp\n",
    "\n",
    "    type set = Empty | Node of element * int * set * set\n",
    "\n",
    "    let empty = Empty\n",
    "\n",
    "    let height = function\n",
    "      | Empty -> 0\n",
    "      | Node (_, h, _, _) -> h\n",
    "\n",
    "    let leaf v = Node (v, 1, Empty, Empty)\n",
    "\n",
    "    let node (v, l, r) = Node (v, 1 + max (height l) (height r), l, r)\n",
    "\n",
    "    let rec member x = function\n",
    "      | Empty -> false\n",
    "      | Node (y, _, l, r) ->\n",
    "         begin\n",
    "           match cmp x y with\n",
    "           | Equal -> true\n",
    "           | Less -> member x l\n",
    "           | Greater -> member x r\n",
    "         end\n",
    "\n",
    "    let rec to_list = function\n",
    "      | Empty -> []\n",
    "      | Node (x, _, l, r) -> to_list l @ [x] @ to_list r\n",
    "\n",
    "    let rotateLeft = function\n",
    "      | Node (x, _, a, Node (y, _, b, c)) -> node (y, node (x, a, b), c)\n",
    "      | t -> t\n",
    "\n",
    "    (* alternativni zapis s case *)\n",
    "    let rotateRight = function\n",
    "      | Node (y, _, Node (x, _, a, b), c) -> node (x, a, node (y, b, c))\n",
    "      | t -> t\n",
    "\n",
    "    let imbalance = function\n",
    "      | Empty -> 0\n",
    "      | Node (_, _, l, r) -> height l - height r\n",
    "\n",
    "    let balance = function\n",
    "      | Empty -> Empty\n",
    "      | Node (x, _, l, r) as t ->\n",
    "         begin\n",
    "           match imbalance t with\n",
    "           | 2 ->\n",
    "              (match imbalance l with\n",
    "               | -1 -> rotateRight (node (x, rotateLeft l, r))\n",
    "               | _ -> rotateRight t)\n",
    "           | -2 ->\n",
    "              (match imbalance r with\n",
    "               | 1 -> rotateLeft (node (x, l, rotateRight r))\n",
    "               | _ -> rotateLeft t)\n",
    "           | _ -> t\n",
    "         end\n",
    "\n",
    "    let rec add x = function\n",
    "      | Empty -> leaf x\n",
    "      | Node (y, _, l, r) as t ->\n",
    "         begin\n",
    "           match cmp x y with\n",
    "           | Equal -> t\n",
    "           | Less -> balance (node (y, add x l, r))\n",
    "           | Greater -> balance (node (y, l, add x r))\n",
    "         end\n",
    "\n",
    "    let rec remove x = function\n",
    "      | Empty -> Empty\n",
    "      | Node (y, _, l, r) ->\n",
    "         let rec removeSuccessor = function\n",
    "           | Empty -> assert false\n",
    "           | Node (x, _, Empty, r) -> (r, x)\n",
    "           | Node (x, _, l, r) ->\n",
    "              let (l', y) = removeSuccessor l in\n",
    "              (balance (node (x, l', r)), y)\n",
    "         in\n",
    "         match cmp x y with\n",
    "         | Less -> balance (node (y, remove x l, r))\n",
    "         | Greater -> balance (node (y, l, remove x r))\n",
    "         | Equal ->\n",
    "            begin match (l, r) with\n",
    "            | (_, Empty) -> l\n",
    "            | (Empty, _) -> r\n",
    "            | _ ->\n",
    "               let (r', y') = removeSuccessor r in\n",
    "               balance (node (y', l, r'))\n",
    "            end\n",
    "\n",
    "    let rec fold f x = function\n",
    "      | Empty -> x\n",
    "      | Node (y, _, l, r) -> fold f (f (fold f x l) y) r\n",
    "\n",
    "  end"
   ]
  },
  {
   "attachments": {},
   "cell_type": "markdown",
   "id": "appointed-voltage",
   "metadata": {},
   "source": [
    "Preverimo, da je `AVLSet` res učinkovitejši od `ListSet`. Najprej definiramo dve\n",
    "implementaciji množic celih števil, eno s seznami in eno z AVL drevesi:"
   ]
  },
  {
   "cell_type": "code",
   "execution_count": null,
   "id": "compact-southwest",
   "metadata": {
    "vscode": {
     "languageId": "ocaml"
    }
   },
   "outputs": [],
   "source": [
    "module SL = ListSet (struct type t = int let cmp = ocaml_cmp end)\n",
    "module SA = AVLSet (struct type t = int let cmp = ocaml_cmp end)"
   ]
  },
  {
   "attachments": {},
   "cell_type": "markdown",
   "id": "auburn-glossary",
   "metadata": {},
   "source": [
    "### Množica `{1, 2, ..., n}`\n",
    "\n",
    "Definirajte funkcijo `add_list n`, ki vrne množico (implementirano s seznami) števil od `1` do `n`. Primer uporabe:\n",
    "\n",
    "    # SL.to_list (add_list 10) ;;\n",
    "    - : SL.element list = [10; 9; 8; 7; 6; 5; 4; 3; 2; 1]"
   ]
  },
  {
   "cell_type": "code",
   "execution_count": null,
   "id": "combined-wednesday",
   "metadata": {
    "vscode": {
     "languageId": "ocaml"
    }
   },
   "outputs": [],
   "source": [
    "(* let rec add_list = … *)\n",
    "SL.to_list (add_list 10)"
   ]
  },
  {
   "attachments": {},
   "cell_type": "markdown",
   "id": "dangerous-program",
   "metadata": {},
   "source": [
    "Na enak način definirajte še funkcijo `add_avl`, ki množico implementira z AVL drevesi:\n",
    "\n",
    "    # SA.to_list (add_avl 10) ;;\n",
    "    - : SA.element list = [1; 2; 3; 4; 5; 6; 7; 8; 9; 10]"
   ]
  },
  {
   "cell_type": "code",
   "execution_count": null,
   "id": "incorporated-mounting",
   "metadata": {
    "vscode": {
     "languageId": "ocaml"
    }
   },
   "outputs": [],
   "source": [
    "(* let rec add_avl = … *)\n",
    "SA.to_list (add_avl 10)"
   ]
  },
  {
   "attachments": {},
   "cell_type": "markdown",
   "id": "geographic-neighborhood",
   "metadata": {},
   "source": [
    "### Čas izvajanja\n",
    "\n",
    "Podana je funkcija `time`, ki izmeri čas izvajanja dane funkcije `f`:\n",
    "\n",
    "   "
   ]
  },
  {
   "cell_type": "code",
   "execution_count": null,
   "id": "wanted-tonight",
   "metadata": {
    "vscode": {
     "languageId": "ocaml"
    }
   },
   "outputs": [],
   "source": [
    "let time f =\n",
    "    let start = Sys.time () in\n",
    "    f () ;\n",
    "    let stop = Sys.time () in\n",
    "    stop -. start"
   ]
  },
  {
   "attachments": {},
   "cell_type": "markdown",
   "id": "executed-waterproof",
   "metadata": {},
   "source": [
    "Funkcija `f` je »thunk«, torej sprejme le argument tipa `unit`. Čas, ki ga OCaml potrebuje, da sešteje vsa števila od 1 do 10000000:\n",
    "\n",
    "    # time (fun () -> let s = ref 0 in for i = 1 to 10000000 do s := !s + i done; !s) ;;\n",
    "    - : float = 0.17635\n",
    "\n",
    "Izmerite, koliko časa traja vstavljanje velikega števila elementov v množico.\n",
    "Primerjajte implementaciji `SL` in `SA`."
   ]
  },
  {
   "cell_type": "code",
   "execution_count": null,
   "id": "distant-clock",
   "metadata": {
    "vscode": {
     "languageId": "ocaml"
    }
   },
   "outputs": [],
   "source": [
    "(* time (fun () -> … ) ;;\n",
    "time … *)"
   ]
  },
  {
   "attachments": {},
   "cell_type": "markdown",
   "id": "weighted-history",
   "metadata": {},
   "source": [
    "## Fold\n",
    "\n",
    "Funkcija `fold` sprejme\n",
    "\n",
    "* funkcijo `f` dveh argumentov,\n",
    "* začetno vrednost `z` in\n",
    "* množico `m = {x₁, x₂, …, xᵢ}`\n",
    "\n",
    "ter izračuna rezultat tako, da s pomočjo `f` elemente enega za drugim kombinira s trenutno vrednostjo:\n",
    "\n",
    "    f (… (f (f z x₁) x₂) …) xᵢₙ\n",
    "\n",
    "Primer, kjer je funkcija `f` kar sešetvane, začetna vrednost `z` je `0` in množica `m` je `{1,2,3,4}`:\n",
    "\n",
    "    # SL.fold ( + ) 0 (add_list 4) ;;\n",
    "    - : int = 10\n",
    "\n",
    "Signaturi [`SET`](#module_set_cell) dodajte funkcijo `fold`:\n",
    "\n",
    "    val fold : ('a -> element -> 'a) -> 'a -> set -> 'a\n",
    "\n",
    "in jo implementirajte v funktorjih [`ListSet`](#ListSet) in [`AVLSet`](#AVLSet)."
   ]
  },
  {
   "attachments": {},
   "cell_type": "markdown",
   "id": "composed-wealth",
   "metadata": {},
   "source": [
    "## Unija, filter in presek\n",
    "\n",
    "Definirajte funktor `SetOps`, ki sprejme strukturo s signaturo `SET` in\n",
    "implementira funkcije `union`, `filter` ter `intersection`. Nastavek za rešitev:\n",
    "\n",
    "    module SetOps(S : SET) =\n",
    "    struct\n",
    "       let union a b = …\n",
    "       let filter p a = …\n",
    "       let intersection a b = …\n",
    "    end\n",
    "\n",
    "Unijo in presek poznamo, funkcija `filter` pa sprejme predikat (funkcijo, ki\n",
    "vrača vrednosti tipa `bool`) in množico, ter novo množico tistih elementov, ki\n",
    "zadoščajo predikatu. Pri definiciji funkcij si pomagajte s funkcijo `fold`.\n",
    "\n",
    "Primer:\n",
    "\n",
    "    # module SA_ops = SetOps(SA) ;;\n",
    "    module SA_ops :\n",
    "      sig\n",
    "        val union : SA.set -> SA.set -> SA.set\n",
    "        val filter : (SA.element -> bool) -> SA.set -> SA.set\n",
    "        val intersection : SA.set -> SA.set -> SA.set\n",
    "      end\n",
    "    # SA.to_list (SA_ops.filter (fun x -> x > 10) (add_avl 20)) ;;\n",
    "    - : SA.element list = [11; 12; 13; 14; 15; 16; 17; 18; 19; 20]"
   ]
  },
  {
   "cell_type": "code",
   "execution_count": null,
   "id": "headed-synthetic",
   "metadata": {
    "vscode": {
     "languageId": "ocaml"
    }
   },
   "outputs": [],
   "source": [
    "module SetOps(S : SET) =\n",
    "  struct\n",
    "    (* dopolni *)\n",
    "  end\n",
    "\n",
    "module SA_ops = SetOps(SA)\n",
    ";;\n",
    "SA.to_list (SA_ops.filter (fun x -> x > 10) (add_avl 20))"
   ]
  }
 ],
 "metadata": {
  "kernelspec": {
   "display_name": "OCaml 4.13.0",
   "language": "OCaml",
   "name": "ocaml-jupyter"
  },
  "language_info": {
   "codemirror_mode": "text/x-ocaml",
   "file_extension": ".ml",
   "mimetype": "text/x-ocaml",
   "name": "OCaml",
   "nbconverter_exporter": null,
   "pygments_lexer": "OCaml",
   "version": "4.13.0"
  }
 },
 "nbformat": 4,
 "nbformat_minor": 5
}
