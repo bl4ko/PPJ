{
 "cells": [
  {
   "attachments": {},
   "cell_type": "markdown",
   "metadata": {},
   "source": [
    "### Functions"
   ]
  },
  {
   "cell_type": "code",
   "execution_count": null,
   "metadata": {
    "vscode": {
     "languageId": "ocaml"
    }
   },
   "outputs": [],
   "source": [
    "(* When you define function using function keyword, it automatically creates an \n",
    "  anonymous function that takes one argument, which is expected to match one of the provided patterns *)\n",
    "(* anonymous function *)\n",
    "let rec member x = function\n",
    "        | [] -> false\n",
    "        | y :: ys -> (x = y) || member x ys;; (* Divide our list into first element y, and rest ys *)\n",
    "\n",
    "member 3 [1; 2; 3; 4] ;; (* true *)"
   ]
  },
  {
   "attachments": {},
   "cell_type": "markdown",
   "metadata": {},
   "source": [
    "#### Tail recursion"
   ]
  },
  {
   "cell_type": "code",
   "execution_count": 15,
   "metadata": {
    "vscode": {
     "languageId": "ocaml"
    }
   },
   "outputs": [
    {
     "data": {
      "text/plain": [
       "val factorial : int -> int = <fun>\n"
      ]
     },
     "execution_count": 15,
     "metadata": {},
     "output_type": "execute_result"
    },
    {
     "data": {
      "text/plain": [
       "- : int = 120\n"
      ]
     },
     "execution_count": 15,
     "metadata": {},
     "output_type": "execute_result"
    },
    {
     "data": {
      "text/plain": [
       "val factorial2 : int -> int = <fun>\n"
      ]
     },
     "execution_count": 15,
     "metadata": {},
     "output_type": "execute_result"
    },
    {
     "data": {
      "text/plain": [
       "- : int = 120\n"
      ]
     },
     "execution_count": 15,
     "metadata": {},
     "output_type": "execute_result"
    },
    {
     "data": {
      "text/plain": [
       "val factorial3 : int -> int = <fun>\n"
      ]
     },
     "execution_count": 15,
     "metadata": {},
     "output_type": "execute_result"
    },
    {
     "data": {
      "text/plain": [
       "- : int = 120\n"
      ]
     },
     "execution_count": 15,
     "metadata": {},
     "output_type": "execute_result"
    },
    {
     "data": {
      "text/plain": [
       "val power3plus1 : int -> int = <fun>\n"
      ]
     },
     "execution_count": 15,
     "metadata": {},
     "output_type": "execute_result"
    },
    {
     "data": {
      "text/plain": [
       "- : int = 10\n"
      ]
     },
     "execution_count": 15,
     "metadata": {},
     "output_type": "execute_result"
    },
    {
     "data": {
      "text/plain": [
       "val power3plus1' : int -> int = <fun>\n"
      ]
     },
     "execution_count": 15,
     "metadata": {},
     "output_type": "execute_result"
    },
    {
     "data": {
      "text/plain": [
       "- : int = 10\n"
      ]
     },
     "execution_count": 15,
     "metadata": {},
     "output_type": "execute_result"
    }
   ],
   "source": [
    "(* Recursive function *)\n",
    "let rec factorial n =\n",
    "  if n = 0 then 1 else n * factorial (n - 1) ;;\n",
    "\n",
    "factorial 5 ;; (* 120 *)\n",
    "\n",
    "(* Tail recursive function *)\n",
    "let factorial2 n =\n",
    "  let rec helper acc n = (* `helper` is tail recursive function, its recursive call is the last operation in the function, and it carries along an accumulator `acc`, which keps track of the ongoing results*)\n",
    "    if n = 0 then acc else helper (n * acc) (n - 1)\n",
    "  in helper 1 n ;;\n",
    "\n",
    "factorial2 5 ;; (* 120 *)\n",
    "\n",
    "(* For loop function *)\n",
    "let factorial3 n =\n",
    "    let result = ref 1 in\n",
    "    for i = 2 to n do\n",
    "        result := !result * i\n",
    "    done;\n",
    "    !result;;\n",
    "\n",
    "factorial3 5 ;; (* 120 *)\n",
    "\n",
    "(* Example converting while loop to tail recursion *)\n",
    "let power3plus1 b =\n",
    "  let i = ref 2 in\n",
    "  let j = ref 0 in\n",
    "  while !j < b do\n",
    "    i := !i + !i + !i - 2;\n",
    "    j := !j + 1 ;\n",
    "  done;\n",
    "  !i ;;\n",
    "\n",
    "power3plus1 2 ;; (* 10 *)\n",
    "\n",
    "\n",
    "let power3plus1' b =\n",
    "  let rec helper i j =\n",
    "    if j < b then helper (i + i + i - 2) (j + 1)\n",
    "    else i\n",
    "  in helper 2 0 ;;\n",
    "\n",
    "power3plus1' 2 ;;"
   ]
  },
  {
   "attachments": {},
   "cell_type": "markdown",
   "metadata": {},
   "source": [
    "## Lists"
   ]
  },
  {
   "cell_type": "code",
   "execution_count": 5,
   "metadata": {
    "vscode": {
     "languageId": "ocaml"
    }
   },
   "outputs": [
    {
     "data": {
      "text/plain": [
       "val stevila : int list = [1; 2; 3; 4]\n"
      ]
     },
     "execution_count": 5,
     "metadata": {},
     "output_type": "execute_result"
    },
    {
     "data": {
      "text/plain": [
       "- : int = 1\n"
      ]
     },
     "execution_count": 5,
     "metadata": {},
     "output_type": "execute_result"
    },
    {
     "data": {
      "text/plain": [
       "- : int list = [2; 3; 4]\n"
      ]
     },
     "execution_count": 5,
     "metadata": {},
     "output_type": "execute_result"
    },
    {
     "data": {
      "text/plain": [
       "- : int = 4\n"
      ]
     },
     "execution_count": 5,
     "metadata": {},
     "output_type": "execute_result"
    },
    {
     "data": {
      "text/plain": [
       "- : int list = [4; 3; 2; 1]\n"
      ]
     },
     "execution_count": 5,
     "metadata": {},
     "output_type": "execute_result"
    },
    {
     "data": {
      "text/plain": [
       "- : int list = [1; 2; 3; 4; 5; 6]\n"
      ]
     },
     "execution_count": 5,
     "metadata": {},
     "output_type": "execute_result"
    },
    {
     "data": {
      "text/plain": [
       "- : int list = [4; 3; 2; 1; 5; 6]\n"
      ]
     },
     "execution_count": 5,
     "metadata": {},
     "output_type": "execute_result"
    },
    {
     "data": {
      "text/plain": [
       "- : int list = [1; 2; 3; 4; 5; 6]\n"
      ]
     },
     "execution_count": 5,
     "metadata": {},
     "output_type": "execute_result"
    },
    {
     "data": {
      "text/plain": [
       "- : int list = [1; 2; 3; 4; 5; 6]\n"
      ]
     },
     "execution_count": 5,
     "metadata": {},
     "output_type": "execute_result"
    },
    {
     "data": {
      "text/plain": [
       "- : int list = [1; 2; 3; 4]\n"
      ]
     },
     "execution_count": 5,
     "metadata": {},
     "output_type": "execute_result"
    },
    {
     "data": {
      "text/plain": [
       "- : int list = [2; 3; 4; 5]\n"
      ]
     },
     "execution_count": 5,
     "metadata": {},
     "output_type": "execute_result"
    },
    {
     "data": {
      "text/plain": [
       "- : int list = [2; 4]\n"
      ]
     },
     "execution_count": 5,
     "metadata": {},
     "output_type": "execute_result"
    },
    {
     "data": {
      "text/plain": [
       "- : int = 10\n"
      ]
     },
     "execution_count": 5,
     "metadata": {},
     "output_type": "execute_result"
    },
    {
     "name": "stderr",
     "output_type": "stream",
     "text": [
      "File \"[5]\", line 20, characters 4-16:\n",
      "20 | let head :: tail = stevila ;; (* head = 1, tail = [2; 3; 4] *)\n",
      "         ^^^^^^^^^^^^\n",
      "Warning 8 [partial-match]: this pattern-matching is not exhaustive.\n",
      "Here is an example of a case that is not matched:\n",
      "[]\n"
     ]
    },
    {
     "data": {
      "text/plain": [
       "val head : int = 1\n",
       "val tail : int list = [2; 3; 4]\n"
      ]
     },
     "execution_count": 5,
     "metadata": {},
     "output_type": "execute_result"
    }
   ],
   "source": [
    "(* ocaml lists operations *)\n",
    "let stevila = [1; 2; 3; 4] ;;\n",
    "List.hd stevila ;; (* 1 *)\n",
    "List.tl stevila ;; (* [2; 3; 4] *)\n",
    "List.length stevila ;; (* 4 *)\n",
    "List.rev stevila ;; (* [4; 3; 2; 1] *)\n",
    "List.append stevila [5; 6] ;; (* [1; 2; 3; 4; 5; 6] *)\n",
    "List.rev_append stevila [5; 6] ;; (* [4; 3; 2; 1; 5; 6] *)\n",
    "List.concat [[1; 2]; [3; 4]; [5; 6]] ;; (* [1; 2; 3; 4; 5; 6] *)\n",
    "[1; 2; 3] @ [4; 5; 6] ;; (* [1; 2; 3; 4; 5; 6] *)\n",
    "1 :: [2; 3; 4] ;; (* [1; 2; 3; 4] *)\n",
    "\n",
    "\n",
    "List.map (fun x -> x + 1) stevila ;; (* [2; 3; 4; 5] *)\n",
    "List.filter (fun x -> x mod 2 = 0) stevila ;; (* [2; 4] *)\n",
    "List.fold_left (fun acc x -> acc + x) 0 stevila ;; (* 10 *)\n",
    "\n",
    "(* :: operator divides the list into head (first element) and tail (rest of the list) *)\n",
    "(* Divide our stevila with this operator *)\n",
    "let head :: tail = stevila ;; (* head = 1, tail = [2; 3; 4] *)"
   ]
  },
  {
   "attachments": {},
   "cell_type": "markdown",
   "metadata": {},
   "source": [
    "### Loops"
   ]
  },
  {
   "cell_type": "code",
   "execution_count": 2,
   "metadata": {
    "vscode": {
     "languageId": "ocaml"
    }
   },
   "outputs": [
    {
     "data": {
      "text/plain": [
       "val vsota_lihih_42 : int = 1764\n"
      ]
     },
     "execution_count": 2,
     "metadata": {},
     "output_type": "execute_result"
    },
    {
     "data": {
      "text/plain": [
       "val vsota_lihih_42' : int = 1764\n"
      ]
     },
     "execution_count": 2,
     "metadata": {},
     "output_type": "execute_result"
    }
   ],
   "source": [
    "(* ocaml refs *)\n",
    "let r = ref 5 ;;\n",
    "!r ;; (* 5 *)\n",
    "!r + 10;; (* 15 *)\n",
    "\n",
    "r := 10 ;; (* set value of ref *)\n",
    "!r ;; (* 10 *)\n",
    "!r + 10;; (* 20 *)\n",
    "\n",
    "(* While loop *)\n",
    "let vsota_lihih_42 =\n",
    "    let v = ref 0 in\n",
    "    let i = ref 0 in\n",
    "    while !i < 42 do\n",
    "    v := !v + (2 * !i + 1) ;\n",
    "    i := !i + 1\n",
    "    done ;\n",
    "    !v\n",
    "\n",
    "(* for loop *)\n",
    "let vsota_lihih_42' =\n",
    "    let v = ref 0 in\n",
    "    for i = 0 to 41 do\n",
    "    v := !v + (2 * i + 1)\n",
    "    done ;\n",
    "    !v"
   ]
  },
  {
   "attachments": {},
   "cell_type": "markdown",
   "metadata": {},
   "source": [
    "### Ocaml types"
   ]
  },
  {
   "cell_type": "code",
   "execution_count": 10,
   "metadata": {
    "vscode": {
     "languageId": "ocaml"
    }
   },
   "outputs": [
    {
     "data": {
      "text/plain": [
       "val succ : int -> int = <fun>\n"
      ]
     },
     "execution_count": 10,
     "metadata": {},
     "output_type": "execute_result"
    },
    {
     "data": {
      "text/plain": [
       "- : int = 6\n"
      ]
     },
     "execution_count": 10,
     "metadata": {},
     "output_type": "execute_result"
    },
    {
     "data": {
      "text/plain": [
       "val const : 'a -> 'b -> 'a = <fun>\n"
      ]
     },
     "execution_count": 10,
     "metadata": {},
     "output_type": "execute_result"
    },
    {
     "data": {
      "text/plain": [
       "- : string = \"hello\"\n"
      ]
     },
     "execution_count": 10,
     "metadata": {},
     "output_type": "execute_result"
    },
    {
     "data": {
      "text/plain": [
       "val flip : ('a -> 'b -> 'c) -> 'b -> 'a -> 'c = <fun>\n"
      ]
     },
     "execution_count": 10,
     "metadata": {},
     "output_type": "execute_result"
    },
    {
     "data": {
      "text/plain": [
       "- : int = 10\n"
      ]
     },
     "execution_count": 10,
     "metadata": {},
     "output_type": "execute_result"
    },
    {
     "data": {
      "text/plain": [
       "val negate : ('a -> bool) -> 'a -> bool = <fun>\n"
      ]
     },
     "execution_count": 10,
     "metadata": {},
     "output_type": "execute_result"
    },
    {
     "data": {
      "text/plain": [
       "- : bool = true\n"
      ]
     },
     "execution_count": 10,
     "metadata": {},
     "output_type": "execute_result"
    },
    {
     "data": {
      "text/plain": [
       "val compose : ('a -> 'b) -> ('c -> 'a) -> 'c -> 'b = <fun>\n"
      ]
     },
     "execution_count": 10,
     "metadata": {},
     "output_type": "execute_result"
    },
    {
     "data": {
      "text/plain": [
       "- : int = 25\n"
      ]
     },
     "execution_count": 10,
     "metadata": {},
     "output_type": "execute_result"
    },
    {
     "data": {
      "text/plain": [
       "val pair : 'a -> 'b -> 'a * 'b = <fun>\n"
      ]
     },
     "execution_count": 10,
     "metadata": {},
     "output_type": "execute_result"
    },
    {
     "data": {
      "text/plain": [
       "- : string * int = (\"hello\", 42)\n"
      ]
     },
     "execution_count": 10,
     "metadata": {},
     "output_type": "execute_result"
    }
   ],
   "source": [
    "(* Ocaml types *)\n",
    "(* Notation is right associative: 'int -> int -> int' is equivalent to 'int -> (int -> int)' *)\n",
    "\n",
    "let succ x = x + 1 ;;  (* int -> int *)\n",
    "let _ = succ 5 ;; (* 6 *)\n",
    "\n",
    "let const a _ = a ;;  (* 'a -> 'b -> 'a *) \n",
    "let _ = const \"hello\" 42 ;; (* \"hello\" *)\n",
    "\n",
    "let flip f x y = f y x ;; (* ('a -> 'b -> 'c) -> 'b -> 'a -> 'c *)\n",
    "let _ = flip (-) 10 20 ;; (* 10 *)\n",
    "\n",
    "let negate f x = not (f x) ;; (* ('a -> 'b) -> 'a -> bool *)\n",
    "let _ = negate ((>) 3) 4 ;; (* true *)\n",
    "\n",
    "let compose f g x = f (g x) ;;  (* ('a -> 'b) -> ('c -> 'a) -> 'c -> 'b *)\n",
    "let _ = compose (fun x -> x * x) (fun y -> y + 2) 3 ;; (* 25 *)\n",
    "\n",
    "let pair x y = (x, y) ;;  (*  'a -> 'b -> 'a * 'b  *)\n",
    "let _ = pair \"hello\" 42 ;; (* (\"hello\", 42) *)"
   ]
  },
  {
   "attachments": {},
   "cell_type": "markdown",
   "metadata": {},
   "source": [
    "### Memoizacija"
   ]
  },
  {
   "cell_type": "code",
   "execution_count": 13,
   "metadata": {
    "vscode": {
     "languageId": "ocaml"
    }
   },
   "outputs": [
    {
     "data": {
      "text/plain": [
       "val fibm : int -> int = <fun>\n"
      ]
     },
     "execution_count": 13,
     "metadata": {},
     "output_type": "execute_result"
    },
    {
     "data": {
      "text/plain": [
       "- : int = 89\n"
      ]
     },
     "execution_count": 13,
     "metadata": {},
     "output_type": "execute_result"
    }
   ],
   "source": [
    "let fibm n =\n",
    "  let memo : int option array = Array.make (n + 1) None in\n",
    "  let rec f_mem n =\n",
    "    match memo.(n) with\n",
    "    | Some result -> (* computed already *) result\n",
    "    | None ->\n",
    "        let result =\n",
    "          if n < 2 then 1 else f_mem (n - 1) + f_mem (n - 2)\n",
    "        in\n",
    "        (* record in table *)\n",
    "        memo.(n) <- Some result;\n",
    "        result\n",
    "  in\n",
    "  f_mem n ;;\n",
    "\n",
    "\n",
    "fibm 10 ;;\n",
    "\n",
    "\n",
    "let rec vipavsko n =\n",
    "    let memo = Array.make(n+1) None in\n",
    "    let rec vipavsko' n =\n",
    "        match memo.(n) with\n",
    "        | Some x -> x\n",
    "        | None -> (\n",
    "            let result = match n with \n",
    "            | 0 -> 0\n",
    "            | 1 -> 1\n",
    "            | n -> vipavsko'(n-2) - 2 * vipavsko'(n-1) in\n",
    "            memo.(n) <- Some result;\n",
    "            result\n",
    "        )\n",
    "    in vipavsko' n ;;\n",
    "\n",
    "List.map vipavsko [0; 1; 2; 3; 4; 5; 6; 7] ;;"
   ]
  },
  {
   "cell_type": "code",
   "execution_count": 14,
   "metadata": {
    "vscode": {
     "languageId": "ocaml"
    }
   },
   "outputs": [
    {
     "data": {
      "text/plain": [
       "val primorsko : 'a -> 'a -> ('a -> 'a -> 'a) -> int -> 'a = <fun>\n"
      ]
     },
     "execution_count": 14,
     "metadata": {},
     "output_type": "execute_result"
    },
    {
     "data": {
      "text/plain": [
       "val a : int = 1\n"
      ]
     },
     "execution_count": 14,
     "metadata": {},
     "output_type": "execute_result"
    },
    {
     "data": {
      "text/plain": [
       "val b : int = 2\n"
      ]
     },
     "execution_count": 14,
     "metadata": {},
     "output_type": "execute_result"
    },
    {
     "data": {
      "text/plain": [
       "val f : 'a -> int -> int = <fun>\n"
      ]
     },
     "execution_count": 14,
     "metadata": {},
     "output_type": "execute_result"
    },
    {
     "data": {
      "text/plain": [
       "- : int list = [1; 2; 4; 8; 16; 32; 64; 128]\n"
      ]
     },
     "execution_count": 14,
     "metadata": {},
     "output_type": "execute_result"
    }
   ],
   "source": [
    "let rec primorsko a b f n =\n",
    "    let memo = Array.make(n+1) None in\n",
    "    let rec primorsko' n =\n",
    "        match memo.(n) with\n",
    "        | Some x -> x\n",
    "        | None -> (\n",
    "            let result = match n with \n",
    "            | 0 -> a\n",
    "            | 1 -> b\n",
    "            | n -> f (primorsko' (n-2)) (primorsko' (n-1)) in\n",
    "            memo.(n) <- Some result;\n",
    "            result\n",
    "        )\n",
    "    in primorsko' n ;;\n",
    "\n",
    "let a = 1;;\n",
    "let b = 2;;\n",
    "let f m n = 2 * n;;\n",
    "\n",
    "List.map (primorsko a b f) [0; 1; 2; 3; 4; 5; 6; 7] ;;"
   ]
  },
  {
   "cell_type": "code",
   "execution_count": 16,
   "metadata": {
    "vscode": {
     "languageId": "ocaml"
    }
   },
   "outputs": [
    {
     "data": {
      "text/plain": [
       "val zaporedje : int -> int -> (int -> int -> int) -> int -> int = <fun>\n"
      ]
     },
     "execution_count": 16,
     "metadata": {},
     "output_type": "execute_result"
    },
    {
     "data": {
      "text/plain": [
       "- : int = 55\n"
      ]
     },
     "execution_count": 16,
     "metadata": {},
     "output_type": "execute_result"
    }
   ],
   "source": [
    "let zaporedje a b f n =\n",
    "  let memo = Array.make (n+1) 0 in\n",
    "  memo.(0) <- a;\n",
    "  memo.(1) <- b;\n",
    "  for i = 2 to n do\n",
    "    memo.(i) <- f memo.(i-2) memo.(i-1)\n",
    "  done;\n",
    "  memo.(n)\n",
    ";;\n",
    "\n",
    "\n",
    "zaporedje 0 1 ( + ) 10 ;;"
   ]
  }
 ],
 "metadata": {
  "kernelspec": {
   "display_name": "OCaml 4.13.0",
   "language": "OCaml",
   "name": "ocaml-jupyter"
  },
  "language_info": {
   "codemirror_mode": "text/x-ocaml",
   "file_extension": ".ml",
   "mimetype": "text/x-ocaml",
   "name": "OCaml",
   "nbconverter_exporter": null,
   "pygments_lexer": "OCaml",
   "version": "4.13.0"
  },
  "orig_nbformat": 4
 },
 "nbformat": 4,
 "nbformat_minor": 2
}
