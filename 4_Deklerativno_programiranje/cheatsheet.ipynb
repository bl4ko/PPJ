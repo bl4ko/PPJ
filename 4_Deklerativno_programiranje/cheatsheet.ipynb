{
 "cells": [
  {
   "attachments": {},
   "cell_type": "markdown",
   "metadata": {},
   "source": [
    "### Functions"
   ]
  },
  {
   "cell_type": "code",
   "execution_count": null,
   "metadata": {
    "vscode": {
     "languageId": "ocaml"
    }
   },
   "outputs": [],
   "source": [
    "(* When you define function using function keyword, it automatically creates an \n",
    "  anonymous function that takes one argument, which is expected to match one of the provided patterns *)\n",
    "(* anonymous function *)\n",
    "let rec member x = function\n",
    "        | [] -> false\n",
    "        | y :: ys -> (x = y) || member x ys;; (* Divide our list into first element y, and rest ys *)\n",
    "\n",
    "member 3 [1; 2; 3; 4] ;; (* true *)"
   ]
  },
  {
   "attachments": {},
   "cell_type": "markdown",
   "metadata": {},
   "source": [
    "#### Tail recursion"
   ]
  },
  {
   "cell_type": "code",
   "execution_count": 15,
   "metadata": {
    "vscode": {
     "languageId": "ocaml"
    }
   },
   "outputs": [
    {
     "data": {
      "text/plain": [
       "val factorial : int -> int = <fun>\n"
      ]
     },
     "execution_count": 15,
     "metadata": {},
     "output_type": "execute_result"
    },
    {
     "data": {
      "text/plain": [
       "- : int = 120\n"
      ]
     },
     "execution_count": 15,
     "metadata": {},
     "output_type": "execute_result"
    },
    {
     "data": {
      "text/plain": [
       "val factorial2 : int -> int = <fun>\n"
      ]
     },
     "execution_count": 15,
     "metadata": {},
     "output_type": "execute_result"
    },
    {
     "data": {
      "text/plain": [
       "- : int = 120\n"
      ]
     },
     "execution_count": 15,
     "metadata": {},
     "output_type": "execute_result"
    },
    {
     "data": {
      "text/plain": [
       "val factorial3 : int -> int = <fun>\n"
      ]
     },
     "execution_count": 15,
     "metadata": {},
     "output_type": "execute_result"
    },
    {
     "data": {
      "text/plain": [
       "- : int = 120\n"
      ]
     },
     "execution_count": 15,
     "metadata": {},
     "output_type": "execute_result"
    },
    {
     "data": {
      "text/plain": [
       "val power3plus1 : int -> int = <fun>\n"
      ]
     },
     "execution_count": 15,
     "metadata": {},
     "output_type": "execute_result"
    },
    {
     "data": {
      "text/plain": [
       "- : int = 10\n"
      ]
     },
     "execution_count": 15,
     "metadata": {},
     "output_type": "execute_result"
    },
    {
     "data": {
      "text/plain": [
       "val power3plus1' : int -> int = <fun>\n"
      ]
     },
     "execution_count": 15,
     "metadata": {},
     "output_type": "execute_result"
    },
    {
     "data": {
      "text/plain": [
       "- : int = 10\n"
      ]
     },
     "execution_count": 15,
     "metadata": {},
     "output_type": "execute_result"
    }
   ],
   "source": [
    "(* Recursive function *)\n",
    "let rec factorial n =\n",
    "  if n = 0 then 1 else n * factorial (n - 1) ;;\n",
    "\n",
    "factorial 5 ;; (* 120 *)\n",
    "\n",
    "(* Tail recursive function *)\n",
    "let factorial2 n =\n",
    "  let rec helper acc n = (* `helper` is tail recursive function, its recursive call is the last operation in the function, and it carries along an accumulator `acc`, which keps track of the ongoing results*)\n",
    "    if n = 0 then acc else helper (n * acc) (n - 1)\n",
    "  in helper 1 n ;;\n",
    "\n",
    "factorial2 5 ;; (* 120 *)\n",
    "\n",
    "(* For loop function *)\n",
    "let factorial3 n =\n",
    "    let result = ref 1 in\n",
    "    for i = 2 to n do\n",
    "        result := !result * i\n",
    "    done;\n",
    "    !result;;\n",
    "\n",
    "factorial3 5 ;; (* 120 *)\n",
    "\n",
    "(* Example converting while loop to tail recursion *)\n",
    "let power3plus1 b =\n",
    "  let i = ref 2 in\n",
    "  let j = ref 0 in\n",
    "  while !j < b do\n",
    "    i := !i + !i + !i - 2;\n",
    "    j := !j + 1 ;\n",
    "  done;\n",
    "  !i ;;\n",
    "\n",
    "power3plus1 2 ;; (* 10 *)\n",
    "\n",
    "\n",
    "let power3plus1' b =\n",
    "  let rec helper i j =\n",
    "    if j < b then helper (i + i + i - 2) (j + 1)\n",
    "    else i\n",
    "  in helper 2 0 ;;\n",
    "\n",
    "power3plus1' 2 ;;"
   ]
  },
  {
   "attachments": {},
   "cell_type": "markdown",
   "metadata": {},
   "source": [
    "## Lists"
   ]
  },
  {
   "cell_type": "code",
   "execution_count": 5,
   "metadata": {
    "vscode": {
     "languageId": "ocaml"
    }
   },
   "outputs": [
    {
     "data": {
      "text/plain": [
       "val stevila : int list = [1; 2; 3; 4]\n"
      ]
     },
     "execution_count": 5,
     "metadata": {},
     "output_type": "execute_result"
    },
    {
     "data": {
      "text/plain": [
       "- : int = 1\n"
      ]
     },
     "execution_count": 5,
     "metadata": {},
     "output_type": "execute_result"
    },
    {
     "data": {
      "text/plain": [
       "- : int list = [2; 3; 4]\n"
      ]
     },
     "execution_count": 5,
     "metadata": {},
     "output_type": "execute_result"
    },
    {
     "data": {
      "text/plain": [
       "- : int = 4\n"
      ]
     },
     "execution_count": 5,
     "metadata": {},
     "output_type": "execute_result"
    },
    {
     "data": {
      "text/plain": [
       "- : int list = [4; 3; 2; 1]\n"
      ]
     },
     "execution_count": 5,
     "metadata": {},
     "output_type": "execute_result"
    },
    {
     "data": {
      "text/plain": [
       "- : int list = [1; 2; 3; 4; 5; 6]\n"
      ]
     },
     "execution_count": 5,
     "metadata": {},
     "output_type": "execute_result"
    },
    {
     "data": {
      "text/plain": [
       "- : int list = [4; 3; 2; 1; 5; 6]\n"
      ]
     },
     "execution_count": 5,
     "metadata": {},
     "output_type": "execute_result"
    },
    {
     "data": {
      "text/plain": [
       "- : int list = [1; 2; 3; 4; 5; 6]\n"
      ]
     },
     "execution_count": 5,
     "metadata": {},
     "output_type": "execute_result"
    },
    {
     "data": {
      "text/plain": [
       "- : int list = [1; 2; 3; 4; 5; 6]\n"
      ]
     },
     "execution_count": 5,
     "metadata": {},
     "output_type": "execute_result"
    },
    {
     "data": {
      "text/plain": [
       "- : int list = [1; 2; 3; 4]\n"
      ]
     },
     "execution_count": 5,
     "metadata": {},
     "output_type": "execute_result"
    },
    {
     "data": {
      "text/plain": [
       "- : int list = [2; 3; 4; 5]\n"
      ]
     },
     "execution_count": 5,
     "metadata": {},
     "output_type": "execute_result"
    },
    {
     "data": {
      "text/plain": [
       "- : int list = [2; 4]\n"
      ]
     },
     "execution_count": 5,
     "metadata": {},
     "output_type": "execute_result"
    },
    {
     "data": {
      "text/plain": [
       "- : int = 10\n"
      ]
     },
     "execution_count": 5,
     "metadata": {},
     "output_type": "execute_result"
    },
    {
     "name": "stderr",
     "output_type": "stream",
     "text": [
      "File \"[5]\", line 20, characters 4-16:\n",
      "20 | let head :: tail = stevila ;; (* head = 1, tail = [2; 3; 4] *)\n",
      "         ^^^^^^^^^^^^\n",
      "Warning 8 [partial-match]: this pattern-matching is not exhaustive.\n",
      "Here is an example of a case that is not matched:\n",
      "[]\n"
     ]
    },
    {
     "data": {
      "text/plain": [
       "val head : int = 1\n",
       "val tail : int list = [2; 3; 4]\n"
      ]
     },
     "execution_count": 5,
     "metadata": {},
     "output_type": "execute_result"
    }
   ],
   "source": [
    "(* ocaml lists operations *)\n",
    "let stevila = [1; 2; 3; 4] ;;\n",
    "List.hd stevila ;; (* 1 *)\n",
    "List.tl stevila ;; (* [2; 3; 4] *)\n",
    "List.length stevila ;; (* 4 *)\n",
    "List.rev stevila ;; (* [4; 3; 2; 1] *)\n",
    "List.append stevila [5; 6] ;; (* [1; 2; 3; 4; 5; 6] *)\n",
    "List.rev_append stevila [5; 6] ;; (* [4; 3; 2; 1; 5; 6] *)\n",
    "List.concat [[1; 2]; [3; 4]; [5; 6]] ;; (* [1; 2; 3; 4; 5; 6] *)\n",
    "[1; 2; 3] @ [4; 5; 6] ;; (* [1; 2; 3; 4; 5; 6] *)\n",
    "1 :: [2; 3; 4] ;; (* [1; 2; 3; 4] *)\n",
    "\n",
    "\n",
    "List.map (fun x -> x + 1) stevila ;; (* [2; 3; 4; 5] *)\n",
    "List.filter (fun x -> x mod 2 = 0) stevila ;; (* [2; 4] *)\n",
    "List.fold_left (fun acc x -> acc + x) 0 stevila ;; (* 10 *)\n",
    "\n",
    "(* :: operator divides the list into head (first element) and tail (rest of the list) *)\n",
    "(* Divide our stevila with this operator *)\n",
    "let head :: tail = stevila ;; (* head = 1, tail = [2; 3; 4] *)"
   ]
  },
  {
   "attachments": {},
   "cell_type": "markdown",
   "metadata": {},
   "source": [
    "### Smart Constructors"
   ]
  },
  {
   "cell_type": "code",
   "execution_count": 9,
   "metadata": {
    "vscode": {
     "languageId": "ocaml"
    }
   },
   "outputs": [],
   "source": [
    "(* Smart constructors *)\n"
   ]
  },
  {
   "attachments": {},
   "cell_type": "markdown",
   "metadata": {},
   "source": [
    "### Refs"
   ]
  },
  {
   "cell_type": "code",
   "execution_count": null,
   "metadata": {
    "vscode": {
     "languageId": "ocaml"
    }
   },
   "outputs": [],
   "source": [
    "(* ocaml refs *)\n",
    "let r = ref 5 ;;\n",
    "!r ;; (* 5 *)\n",
    "!r + 10;; (* 15 *)\n",
    "\n",
    "r := 10 ;; (* set value of ref *)\n",
    "!r ;; (* 10 *)\n",
    "!r + 10;; (* 20 *)"
   ]
  },
  {
   "attachments": {},
   "cell_type": "markdown",
   "metadata": {},
   "source": [
    "### Loops"
   ]
  },
  {
   "cell_type": "code",
   "execution_count": 2,
   "metadata": {
    "vscode": {
     "languageId": "ocaml"
    }
   },
   "outputs": [
    {
     "data": {
      "text/plain": [
       "val vsota_lihih_42 : int = 1764\n"
      ]
     },
     "execution_count": 2,
     "metadata": {},
     "output_type": "execute_result"
    },
    {
     "data": {
      "text/plain": [
       "val vsota_lihih_42' : int = 1764\n"
      ]
     },
     "execution_count": 2,
     "metadata": {},
     "output_type": "execute_result"
    }
   ],
   "source": [
    "(* While loop *)\n",
    "let vsota_lihih_42 =\n",
    "    let v = ref 0 in\n",
    "    let i = ref 0 in\n",
    "    while !i < 42 do\n",
    "    v := !v + (2 * !i + 1) ;\n",
    "    i := !i + 1\n",
    "    done ;\n",
    "    !v\n",
    "\n",
    "(* for loop *)\n",
    "let vsota_lihih_42' =\n",
    "    let v = ref 0 in\n",
    "    for i = 0 to 41 do\n",
    "    v := !v + (2 * i + 1)\n",
    "    done ;\n",
    "    !v"
   ]
  }
 ],
 "metadata": {
  "kernelspec": {
   "display_name": "OCaml 4.13.0",
   "language": "OCaml",
   "name": "ocaml-jupyter"
  },
  "language_info": {
   "codemirror_mode": "text/x-ocaml",
   "file_extension": ".ml",
   "mimetype": "text/x-ocaml",
   "name": "OCaml",
   "nbconverter_exporter": null,
   "pygments_lexer": "OCaml",
   "version": "4.13.0"
  },
  "orig_nbformat": 4
 },
 "nbformat": 4,
 "nbformat_minor": 2
}
