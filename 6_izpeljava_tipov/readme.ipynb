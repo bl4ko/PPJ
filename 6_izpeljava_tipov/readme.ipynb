{
 "cells": [
  {
   "attachments": {},
   "cell_type": "markdown",
   "metadata": {},
   "source": [
    "# Izpeljava tipov\n",
    "\n",
    "Tip je opis strukture podatka.\n",
    "\n",
    "Programski jezik lahko tipe **preverja** ali **izpeljuje**:\n",
    "\n",
    "- **preverja**, ce jih programer v vecji meri zapise tipe spremenljivk (C++, C, java, C#)\n",
    "- **izpeljuje**, ce programerju ni treba podajati tipov spremenljivk (OCaml, Standard ML, Haskell)\n",
    "\n",
    "```\n",
    "λx.x\n",
    "\n",
    "Vec možnih tipov β ⇾ β, kadar tako opisujemo tipe govorimo o polimorfizmu (izraz hkrati vec razlicnih tipov)\n",
    "```\n"
   ]
  },
  {
   "attachments": {},
   "cell_type": "markdown",
   "metadata": {},
   "source": [
    "## Postopek izpeljave glavnega tipa\n",
    "\n",
    "1. Izračunamo kandidata za tip e, ki vsebuje neznanke, in enačbe, ki jim morajo neznanke zadoščati\n",
    "2. Rešimo enačbe s postopkom združevanja\n",
    "\n",
    "\n",
    "> Just throw in ocaml and see the types...\n"
   ]
  },
  {
   "attachments": {},
   "cell_type": "markdown",
   "metadata": {},
   "source": [
    "### Primeri\n",
    "\n",
    "1. \n",
    "\n",
    "```\n",
    "fun x -> x + 3\n",
    "\n",
    "x : 'a\n",
    "\n",
    "fun x -> 'a + int\n",
    "fun x -> int\n",
    "\n",
    "int -> int\n",
    "```\n",
    "\n",
    "2.  Pri if then else obe veji vracta isti tip\n",
    "\n",
    "```\n",
    "if 3 < 5 then (fun x -> x) else (fun y -> y + 3)\n",
    "\n",
    "3<5 : bool\n",
    "x : 'a\n",
    "\n",
    "if bool then 'a -> 'a else (int -> int)\n",
    "a' -> 'a = int -> int\n",
    "\n",
    "int -> int\n",
    "```\n",
    "\n",
    "3. \n",
    "\n",
    "```\n",
    "fun f -> (fun x -> f (f x ))\n",
    "'a -> 'b\n",
    "\n",
    "\n",
    "```"
   ]
  }
 ],
 "metadata": {
  "language_info": {
   "name": "python"
  },
  "orig_nbformat": 4
 },
 "nbformat": 4,
 "nbformat_minor": 2
}
