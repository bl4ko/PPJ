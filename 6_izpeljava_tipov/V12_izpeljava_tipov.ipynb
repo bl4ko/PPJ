{
 "cells": [
  {
   "attachments": {},
   "cell_type": "markdown",
   "metadata": {},
   "source": [
    "# Izpeljava tipov"
   ]
  },
  {
   "attachments": {},
   "cell_type": "markdown",
   "metadata": {},
   "source": [
    "### 1. Izpeljite glavni tip izraza\n",
    "\n",
    "```ocaml\n",
    "fun x -> fun y -> (x, y, y)\n",
    "```\n",
    "\n",
    "Uvedemo nov parameter `α` in zabeležimo  `x : α`. Funkcija ima tip `α → β`, kjer je `β` tip izraza `fun y -> (x, y, y)`.\n",
    "\n",
    "Tip izraza `fun y -> (x, y, y)`: uvedemo nov parameter `δ` in zabeležimo `y : δ`. Tip izraza `(x, y, y)` je `α × δ × δ`. Funkcija `fun y -> (x, y, y)` ima torej tip `δ → α × δ × δ`. Dobimo enačbo `β = δ → α × δ × δ`.\n",
    "\n",
    "V tipu `α → β` zamenjamo `β ↦ δ → α × δ × δ,` da dobimo glavni tip izraza:\n",
    "\n",
    "\n",
    "```\n",
    "α → δ → α × δ × δ\n",
    "```"
   ]
  },
  {
   "cell_type": "code",
   "execution_count": 1,
   "metadata": {
    "vscode": {
     "languageId": "ocaml"
    }
   },
   "outputs": [
    {
     "data": {
      "text/plain": [
       "- : 'a -> 'b -> 'a * 'b * 'b = <fun>\n"
      ]
     },
     "execution_count": 1,
     "metadata": {},
     "output_type": "execute_result"
    }
   ],
   "source": [
    "fun x -> fun y -> (x, y, y) (* - : 'a -> 'b -> 'a * 'b * 'b = <fun> *)"
   ]
  },
  {
   "attachments": {},
   "cell_type": "markdown",
   "metadata": {},
   "source": [
    "### 2. Izpeljite glavni tip izraza\n",
    "\n",
    "```ocaml\n",
    "if 3 < 5 then (fun x -> x) else (fun y -> (y, y))\n",
    "```\n",
    "\n",
    "Tip lahko izpeljemo po kosih: posebej obravnavamo pogoj `3 < 5`, kjer preverimo, da je tip `bool`, nato pa izpeljemo tipa obeh vej in ju izenačimo.\n",
    "\n",
    "Izraz `3 < 5` res ima tip `bool`, ker 3 in 5 imata tip `int` in `< `res vrne `bool`.\n",
    "\n",
    "Tip funkcije `fun x -> x`: uvedemo nov parameter `α` in zabeležimo `x : α`. Nato izpeljemo tip izraza `x`, ki je seveda `α`. Torej ima `fun x -> x` tip `α → α`.\n",
    "\n",
    "Tip funkcije fun `y -> (y, y)`: uvedemo nov parameter `β` in zabeležimo `y : β`. Nato izpeljemo tip izraza `(y, y)`. To je urejeni par, obe komponenti imata tip `β`, zato je tip urejenega para `(y, y)` enak `β × β`. Torej ima fun `y -> (y, y)` tip` β → β × β`.\n",
    "\n",
    "Izenacimo tipa obeh vej:\n",
    "\n",
    "```\n",
    "(α → α) = (β → β × β)\n",
    "```\n",
    "\n",
    "To je tudi edina enacba, ki jo moramo resiti. Enacbo razbijemo na dve preprostejsi enacbi:\n",
    "\n",
    "```\n",
    "α = β\n",
    "α = β × β\n",
    "```\n",
    "\n",
    "Prva enačba nam da rešitev `α ↦ β`, ki jo upoštevamo v drugi enačbi:\n",
    "\n",
    "```\n",
    "β = β × β\n",
    "```\n",
    "\n",
    "Ta enačba nima rešitve, ker se `β` pojavi na desni strani. Končni odgovor: izraz nima tipa.\n"
   ]
  },
  {
   "cell_type": "code",
   "execution_count": 4,
   "metadata": {
    "vscode": {
     "languageId": "ocaml"
    }
   },
   "outputs": [
    {
     "ename": "error",
     "evalue": "compile_error",
     "output_type": "error",
     "traceback": [
      "File \"[4]\", line 1, characters 43-44:\n1 | if 3 < 5 then (fun x -> x) else (fun y -> (y, y)) ;;\n                                               ^\nError: This expression has type 'a * 'b\n       but an expression was expected of type 'a\n       The type variable 'a occurs inside 'a * 'b\n"
     ]
    }
   ],
   "source": [
    "if 3 < 5 then (fun x -> x) else (fun y -> (y, y)) ;; (* error *)"
   ]
  },
  {
   "attachments": {},
   "cell_type": "markdown",
   "metadata": {},
   "source": [
    "### 3. Izpeljite glavni tip rekurzivne funkcije\n",
    "    \n",
    "```ocaml\n",
    "let rec f x = (if x = 0 then 1 else x * f (x - 1))\n",
    "```\n",
    "\n",
    "Uvedemo parameter `α` in zabeležimo `f : α`.\n",
    "\n",
    "Izraz `fun x -> if x = 0 then 1 else x * f (x - 1)` ima tip `β → γ`, pri čemer zabeležimo `x : β` in enačbo `α = β → γ`. Nato obravnavamo izraz `if x = 0 then 1 else x * f (x - 1)`.\n",
    "\n",
    "Iz pogoja dobimo enačbo `β = int`.\n",
    "\n",
    "Tip izraza `x * f (x - 1)`: izraz `x - 1` ima tip `int`, zato mora imeti `f` tip `int → γ`. Dobimo enačbo `α = int → γ`. Po drugi strani mora zaradi množenja imeti izraz `f (x - 1)` tip `int`, torej dobimo `γ = int`. Preveriti moramo še, da imata obe veji pogojnega stavka isti tip in da ima pogoj `x = 0` res `tip bool`.\n",
    "\n",
    "Glavni tip `α` celega izraza je tako `int → int`."
   ]
  },
  {
   "cell_type": "code",
   "execution_count": 5,
   "metadata": {
    "vscode": {
     "languageId": "ocaml"
    }
   },
   "outputs": [
    {
     "data": {
      "text/plain": [
       "val f : int -> int = <fun>\n"
      ]
     },
     "execution_count": 5,
     "metadata": {},
     "output_type": "execute_result"
    }
   ],
   "source": [
    "let rec f x = (if x = 0 then 1 else x * f (x - 1)) (* val f : int -> int = <fun> *)"
   ]
  },
  {
   "attachments": {},
   "cell_type": "markdown",
   "metadata": {},
   "source": [
    "### 4. Izpeljite glavni tip funkcije `map`\n",
    "\n",
    "```ocaml\n",
    "let rec f l = \n",
    "    match l with\n",
    "    | [] -> []\n",
    "    | x :: xs -> f x :: map f xs\n",
    "```\n",
    "\n",
    "Navodilo uporabite pravilo za rekurzivne funkcije, ter pravila za sezname in `match`:\n",
    "\n",
    "- prazen seznam `[]` ima tip `α list`, kjer je `α` nov parameter\n",
    "- sestavljen seznam `e₁ :: e₂`:\n",
    "\n",
    "    - izpeljemo tip `τ₁` izraza `e₁` in dobimo enačbe `E₁`\n",
    "    - izpeljemo tip `τ₂` izraza `e₂` in dobimo enačbe `E₂`\n",
    "  \n",
    "    Tip `e₁ :: e₂` je `τ₁ list`, z enačbami `E₁`, `E₂` in `τ₂ = τ₁ list`.\n",
    "\n",
    "- izraz `match e₁ with [] -> e₂ | x :: xs -> e₃`:\n",
    "\n",
    "    - izpeljemo tip `τ₁` izraza `e₁` in dobimo enačbe `E₁`\n",
    "    - izpeljemo tip `τ₂` izraza `e₂` in dobimo enačbe `E₂`\n",
    "    - uvedemo nov parameter `α`, zabeležimo `x : α in xs : α list`, izpeljemo tip `τ₂` izraza `e₂` in dobimo enačbe`E₃`\n",
    "  \n",
    "    Tip izraza `match e₁ with [] -> e₂ | x :: xs -> e₃` je `τ₂` z enačbami `E₁`, `E₂`, `E₃`, `τ₁ = α list` in `τ₂ = τ₃`.\n",
    "\n",
    "\n",
    "Tip `map` označimo z `α`, tip `f` z `β` in `l` z `γ`. Nato izračunamo tip izraza match.\n",
    "\n",
    "Prvi primer ima tip `δ list`, pri čemer je `δ` nov parameter.\n",
    "\n",
    "Za drugi primer moramo izračunati tip izraza `f x :: map f xs`, pri čemer uvedemo nov parameter `ε` in zabeležimo `x : ε` in `xs : ε list`. Tip izraza `f x` označimo s `φ₁` in zapišemo enačbo `β = ε → φ₁`. Tip izraza `map f xs` označimo s `φ₂` in zapišemo enačbo `α = β → ε list → φ₂`. Tip celotnega izraza je `φ₁ list`, pri čemer mora veljati še `φ₂ = φ₁ list`.\n",
    "\n",
    "Tip izraza `match` je torej `φ₂`, pri čemer morata veljati še enačbi `γ = ε list` in `δ list = φ₁ list`.\n",
    "\n",
    "Iz teh enačb dobimo tip funkcije:\n",
    "\n",
    "```\n",
    "map: α = (ε → φ₁) → ε list → φ₁ list.\n",
    "```"
   ]
  },
  {
   "cell_type": "code",
   "execution_count": 6,
   "metadata": {
    "vscode": {
     "languageId": "ocaml"
    }
   },
   "outputs": [
    {
     "ename": "error",
     "evalue": "compile_error",
     "output_type": "error",
     "traceback": [
      "File \"[6]\", line 4, characters 19-20:\n4 |     | x :: xs -> f x :: map f xs\n                       ^\nError: This expression has type 'a but an expression was expected of type\n         'a list\n       The type variable 'a occurs inside 'a list\n"
     ]
    }
   ],
   "source": [
    "let rec f l = \n",
    "    match l with\n",
    "    | [] -> []\n",
    "    | x :: xs -> f x :: map f xs"
   ]
  }
 ],
 "metadata": {
  "kernelspec": {
   "display_name": "OCaml 4.13.0",
   "language": "OCaml",
   "name": "ocaml-jupyter"
  },
  "language_info": {
   "codemirror_mode": "text/x-ocaml",
   "file_extension": ".ml",
   "mimetype": "text/x-ocaml",
   "name": "OCaml",
   "nbconverter_exporter": null,
   "pygments_lexer": "OCaml",
   "version": "4.13.0"
  },
  "orig_nbformat": 4
 },
 "nbformat": 4,
 "nbformat_minor": 2
}
